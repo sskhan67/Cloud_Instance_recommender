{
 "cells": [
  {
   "cell_type": "markdown",
   "metadata": {},
   "source": [
    "# Read Library"
   ]
  },
  {
   "cell_type": "code",
   "execution_count": 73,
   "metadata": {},
   "outputs": [],
   "source": [
    "import pandas as pd\n",
    "import matplotlib.pyplot as plt\n",
    "import math\n",
    "from sklearn.cluster import KMeans\n",
    "from sklearn import preprocessing\n",
    "import numpy as np\n",
    "import math\n",
    "from statistics import mean \n",
    "import statistics\n",
    "from sklearn.naive_bayes import GaussianNB\n",
    "from sklearn.metrics import confusion_matrix\n",
    "from sklearn.metrics import accuracy_score\n",
    "from sklearn.metrics import classification_report,confusion_matrix\n",
    "from sklearn import metrics\n",
    "from sklearn.metrics import mean_absolute_error\n",
    "from sklearn.metrics import classification_report,confusion_matrix\n",
    "from sklearn.utils import shuffle\n",
    "%matplotlib inline"
   ]
  },
  {
   "cell_type": "markdown",
   "metadata": {},
   "source": [
    "# Read Dataset for train, test, and verification (QODE)"
   ]
  },
  {
   "cell_type": "code",
   "execution_count": 74,
   "metadata": {},
   "outputs": [
    {
     "data": {
      "text/html": [
       "<div>\n",
       "<style scoped>\n",
       "    .dataframe tbody tr th:only-of-type {\n",
       "        vertical-align: middle;\n",
       "    }\n",
       "\n",
       "    .dataframe tbody tr th {\n",
       "        vertical-align: top;\n",
       "    }\n",
       "\n",
       "    .dataframe thead th {\n",
       "        text-align: right;\n",
       "    }\n",
       "</style>\n",
       "<table border=\"1\" class=\"dataframe\">\n",
       "  <thead>\n",
       "    <tr style=\"text-align: right;\">\n",
       "      <th></th>\n",
       "      <th>a2cloud_score</th>\n",
       "      <th>Cost(per hour USD)</th>\n",
       "      <th>Instance</th>\n",
       "    </tr>\n",
       "  </thead>\n",
       "  <tbody>\n",
       "    <tr>\n",
       "      <td>0</td>\n",
       "      <td>3.728346</td>\n",
       "      <td>0.0928</td>\n",
       "      <td>t2.large</td>\n",
       "    </tr>\n",
       "    <tr>\n",
       "      <td>1</td>\n",
       "      <td>5.071407</td>\n",
       "      <td>0.0832</td>\n",
       "      <td>B2ms</td>\n",
       "    </tr>\n",
       "    <tr>\n",
       "      <td>2</td>\n",
       "      <td>4.942641</td>\n",
       "      <td>0.0950</td>\n",
       "      <td>N1s2</td>\n",
       "    </tr>\n",
       "    <tr>\n",
       "      <td>3</td>\n",
       "      <td>6.261005</td>\n",
       "      <td>0.0150</td>\n",
       "      <td>Lin.G</td>\n",
       "    </tr>\n",
       "    <tr>\n",
       "      <td>4</td>\n",
       "      <td>2.452133</td>\n",
       "      <td>0.1000</td>\n",
       "      <td>c4.large</td>\n",
       "    </tr>\n",
       "    <tr>\n",
       "      <td>...</td>\n",
       "      <td>...</td>\n",
       "      <td>...</td>\n",
       "      <td>...</td>\n",
       "    </tr>\n",
       "    <tr>\n",
       "      <td>235</td>\n",
       "      <td>3.697601</td>\n",
       "      <td>0.0230</td>\n",
       "      <td>t2.small</td>\n",
       "    </tr>\n",
       "    <tr>\n",
       "      <td>236</td>\n",
       "      <td>2.391436</td>\n",
       "      <td>0.0752</td>\n",
       "      <td>t3a.large</td>\n",
       "    </tr>\n",
       "    <tr>\n",
       "      <td>237</td>\n",
       "      <td>3.555449</td>\n",
       "      <td>0.0376</td>\n",
       "      <td>t3a.medium</td>\n",
       "    </tr>\n",
       "    <tr>\n",
       "      <td>238</td>\n",
       "      <td>10.000000</td>\n",
       "      <td>0.0188</td>\n",
       "      <td>t3a.small</td>\n",
       "    </tr>\n",
       "    <tr>\n",
       "      <td>239</td>\n",
       "      <td>1.884216</td>\n",
       "      <td>0.0208</td>\n",
       "      <td>t3.small</td>\n",
       "    </tr>\n",
       "  </tbody>\n",
       "</table>\n",
       "<p>240 rows × 3 columns</p>\n",
       "</div>"
      ],
      "text/plain": [
       "     a2cloud_score  Cost(per hour USD)    Instance\n",
       "0         3.728346              0.0928    t2.large\n",
       "1         5.071407              0.0832        B2ms\n",
       "2         4.942641              0.0950        N1s2\n",
       "3         6.261005              0.0150       Lin.G\n",
       "4         2.452133              0.1000    c4.large\n",
       "..             ...                 ...         ...\n",
       "235       3.697601              0.0230    t2.small\n",
       "236       2.391436              0.0752   t3a.large\n",
       "237       3.555449              0.0376  t3a.medium\n",
       "238      10.000000              0.0188   t3a.small\n",
       "239       1.884216              0.0208    t3.small\n",
       "\n",
       "[240 rows x 3 columns]"
      ]
     },
     "execution_count": 74,
     "metadata": {},
     "output_type": "execute_result"
    }
   ],
   "source": [
    "# dataset best case a2cloud score \n",
    "df_train = pd.read_csv(\"standalone_balanced_a2cloudscore.csv\")\n",
    "\n",
    "# QODE verification dataset  \n",
    "df_QODE= pd.read_csv(\"standalone_balanced_a2cloudscore_QODE_runtime_verfi.csv\")\n",
    "\n",
    "df_train"
   ]
  },
  {
   "cell_type": "markdown",
   "metadata": {},
   "source": [
    "### Length calculation "
   ]
  },
  {
   "cell_type": "code",
   "execution_count": 75,
   "metadata": {},
   "outputs": [],
   "source": [
    "length=df_train.shape\n",
    "len_train=round(length[0]*0.8)  # 80% of total dataset \n",
    "len_test=length[0]-len_train"
   ]
  },
  {
   "cell_type": "markdown",
   "metadata": {},
   "source": [
    "### Shuffle Training dataset"
   ]
  },
  {
   "cell_type": "code",
   "execution_count": 76,
   "metadata": {},
   "outputs": [],
   "source": [
    "df_train = shuffle(df_train)\n",
    "df_train = shuffle(df_train)\n",
    "df_train=df_train.append(df_QODE) # add verification: Kmeans and plot purposes "
   ]
  },
  {
   "cell_type": "markdown",
   "metadata": {},
   "source": [
    "### Data Visualization"
   ]
  },
  {
   "cell_type": "code",
   "execution_count": 77,
   "metadata": {},
   "outputs": [
    {
     "data": {
      "image/png": "[encoded data removed]",
      "text/plain": [
       "<Figure size 720x720 with 1 Axes>"
      ]
     },
     "metadata": {
      "needs_background": "light"
     },
     "output_type": "display_data"
    }
   ],
   "source": [
    "fig = plt.figure(figsize=(10, 10))\n",
    "\n",
    "plt.scatter(df_train.iloc[:,1:2],df_train.iloc[:,0:1],  marker='o')\n",
    "plt.xlabel('Cost [$ per hour]')\n",
    "plt.ylabel('A2Cloud Score')\n",
    "plt.show()"
   ]
  },
  {
   "cell_type": "markdown",
   "metadata": {},
   "source": [
    "# K Means"
   ]
  },
  {
   "cell_type": "code",
   "execution_count": 78,
   "metadata": {},
   "outputs": [
    {
     "data": {
      "text/plain": [
       "array([3, 3, 1, 0, 0, 0, 3, 0, 0, 0, 0, 0, 1, 0, 0, 2, 3, 0, 1, 0, 0, 1,\n",
       "       0, 0, 1, 3, 1, 0, 0, 0, 0, 0, 1, 0, 2, 0, 0, 1, 0, 2, 0, 0, 1, 3,\n",
       "       3, 0, 2, 1, 0, 2, 0, 0, 0, 1, 1, 0, 1, 2, 1, 1, 0, 0, 0, 0, 3, 0,\n",
       "       0, 0, 0, 0, 0, 0, 0, 1, 0, 0, 1, 3, 1, 0, 1, 1, 0, 1, 1, 0, 1, 0,\n",
       "       0, 3, 0, 1, 0, 0, 1, 1, 1, 0, 3, 0, 0, 1, 1, 0, 0, 3, 1, 0, 0, 0,\n",
       "       3, 0, 0, 0, 0, 0, 0, 0, 1, 0, 0, 0, 0, 0, 0, 0, 0, 1, 0, 2, 1, 0,\n",
       "       0, 1, 0, 0, 0, 0, 1, 3, 0, 1, 1, 3, 0, 3, 0, 0, 1, 3, 3, 0, 0, 0,\n",
       "       0, 1, 0, 3, 0, 1, 3, 1, 0, 0, 1, 0, 3, 0, 0, 3, 2, 3, 1, 3, 0, 0,\n",
       "       0, 0, 1, 1, 1, 0, 0, 0, 3, 0, 0, 1, 0, 1, 0, 1, 0, 3, 2, 0, 0, 2,\n",
       "       0, 1, 0, 1, 1, 0, 0, 1, 1, 0, 0, 0, 0, 1, 0, 1, 0, 3, 2, 0, 2, 1,\n",
       "       1, 1, 0, 1, 0, 1, 0, 0, 0, 3, 0, 1, 0, 0, 0, 0, 0, 0, 3, 1, 3, 3,\n",
       "       3, 3, 0, 3, 2, 2, 3, 3, 2, 2, 1, 1, 1, 1, 1, 1, 1, 1, 3, 2, 2, 3,\n",
       "       0, 2, 3, 3, 3, 3, 3, 2, 1, 1, 1, 1, 1, 1, 1, 1, 0, 3, 3, 3, 0, 3,\n",
       "       3, 2, 3, 3, 2, 3, 1, 1, 1, 1, 1, 1, 1, 1], dtype=int32)"
      ]
     },
     "execution_count": 78,
     "metadata": {},
     "output_type": "execute_result"
    }
   ],
   "source": [
    "X=df_train.iloc[:,0:2]\n",
    "model = KMeans(n_clusters = 4)\n",
    "kmeans=model.fit(X)\n",
    "labels = kmeans.labels_ # creating classification columns for supervised learning \n",
    "labels"
   ]
  },
  {
   "cell_type": "code",
   "execution_count": 79,
   "metadata": {},
   "outputs": [],
   "source": [
    "df_train['cluster']=labels # add cluster column to dataset "
   ]
  },
  {
   "cell_type": "markdown",
   "metadata": {},
   "source": [
    "### Data Visualization\n"
   ]
  },
  {
   "cell_type": "code",
   "execution_count": 80,
   "metadata": {},
   "outputs": [
    {
     "data": {
      "text/plain": [
       "Text(0, 0.5, 'A2Cloud Score')"
      ]
     },
     "execution_count": 80,
     "metadata": {},
     "output_type": "execute_result"
    },
    {
     "data": {
      "image/png": "[encoded data removed]",
      "text/plain": [
       "<Figure size 720x720 with 1 Axes>"
      ]
     },
     "metadata": {
      "needs_background": "light"
     },
     "output_type": "display_data"
    }
   ],
   "source": [
    "fig = plt.figure(figsize=(10, 10))\n",
    " # Create a colormap\n",
    "colormap = np.array(['green', 'red','yellow','orange'])\n",
    "plt.scatter(df_train.iloc[:,1:2], df_train.iloc[:,0:1], c=colormap[model.labels_], edgecolor = 'black', s = 100)\n",
    "plt.title('K Mean Clustering: 4 cluster  ')\n",
    "plt.xlabel('Cost [$ per hour]')\n",
    "plt.ylabel('A2Cloud Score')"
   ]
  },
  {
   "cell_type": "markdown",
   "metadata": {},
   "source": [
    "### Cluster Number conversion: 4-excellent, 3-good, 2-avg, 1- bad\n"
   ]
  },
  {
   "cell_type": "code",
   "execution_count": 81,
   "metadata": {},
   "outputs": [
    {
     "data": {
      "text/html": [
       "<div>\n",
       "<style scoped>\n",
       "    .dataframe tbody tr th:only-of-type {\n",
       "        vertical-align: middle;\n",
       "    }\n",
       "\n",
       "    .dataframe tbody tr th {\n",
       "        vertical-align: top;\n",
       "    }\n",
       "\n",
       "    .dataframe thead th {\n",
       "        text-align: right;\n",
       "    }\n",
       "</style>\n",
       "<table border=\"1\" class=\"dataframe\">\n",
       "  <thead>\n",
       "    <tr style=\"text-align: right;\">\n",
       "      <th></th>\n",
       "      <th>a2cloud_score</th>\n",
       "      <th>Cost(per hour USD)</th>\n",
       "      <th>Instance</th>\n",
       "      <th>cluster</th>\n",
       "    </tr>\n",
       "  </thead>\n",
       "  <tbody>\n",
       "    <tr>\n",
       "      <td>50</td>\n",
       "      <td>10.000000</td>\n",
       "      <td>0.1184</td>\n",
       "      <td>N1M2</td>\n",
       "      <td>2</td>\n",
       "    </tr>\n",
       "    <tr>\n",
       "      <td>51</td>\n",
       "      <td>7.568714</td>\n",
       "      <td>0.0900</td>\n",
       "      <td>Lin.M</td>\n",
       "      <td>3</td>\n",
       "    </tr>\n",
       "    <tr>\n",
       "      <td>52</td>\n",
       "      <td>1.092361</td>\n",
       "      <td>0.0850</td>\n",
       "      <td>c5.large</td>\n",
       "      <td>1</td>\n",
       "    </tr>\n",
       "    <tr>\n",
       "      <td>53</td>\n",
       "      <td>1.325206</td>\n",
       "      <td>0.1000</td>\n",
       "      <td>m4.large</td>\n",
       "      <td>1</td>\n",
       "    </tr>\n",
       "    <tr>\n",
       "      <td>54</td>\n",
       "      <td>1.385623</td>\n",
       "      <td>0.0464</td>\n",
       "      <td>t2.medium</td>\n",
       "      <td>1</td>\n",
       "    </tr>\n",
       "    <tr>\n",
       "      <td>55</td>\n",
       "      <td>1.608541</td>\n",
       "      <td>0.0230</td>\n",
       "      <td>t2.small</td>\n",
       "      <td>1</td>\n",
       "    </tr>\n",
       "    <tr>\n",
       "      <td>56</td>\n",
       "      <td>1.000000</td>\n",
       "      <td>0.0752</td>\n",
       "      <td>t3a.large</td>\n",
       "      <td>1</td>\n",
       "    </tr>\n",
       "    <tr>\n",
       "      <td>57</td>\n",
       "      <td>1.748019</td>\n",
       "      <td>0.0376</td>\n",
       "      <td>t3a.medium</td>\n",
       "      <td>1</td>\n",
       "    </tr>\n",
       "    <tr>\n",
       "      <td>58</td>\n",
       "      <td>1.987044</td>\n",
       "      <td>0.0188</td>\n",
       "      <td>t3a.small</td>\n",
       "      <td>1</td>\n",
       "    </tr>\n",
       "    <tr>\n",
       "      <td>59</td>\n",
       "      <td>2.151279</td>\n",
       "      <td>0.0208</td>\n",
       "      <td>t3.small</td>\n",
       "      <td>1</td>\n",
       "    </tr>\n",
       "  </tbody>\n",
       "</table>\n",
       "</div>"
      ],
      "text/plain": [
       "    a2cloud_score  Cost(per hour USD)    Instance  cluster\n",
       "50      10.000000              0.1184        N1M2        2\n",
       "51       7.568714              0.0900       Lin.M        3\n",
       "52       1.092361              0.0850    c5.large        1\n",
       "53       1.325206              0.1000    m4.large        1\n",
       "54       1.385623              0.0464   t2.medium        1\n",
       "55       1.608541              0.0230    t2.small        1\n",
       "56       1.000000              0.0752   t3a.large        1\n",
       "57       1.748019              0.0376  t3a.medium        1\n",
       "58       1.987044              0.0188   t3a.small        1\n",
       "59       2.151279              0.0208    t3.small        1"
      ]
     },
     "execution_count": 81,
     "metadata": {},
     "output_type": "execute_result"
    }
   ],
   "source": [
    "df_train.tail(10)"
   ]
  },
  {
   "cell_type": "code",
   "execution_count": 82,
   "metadata": {},
   "outputs": [],
   "source": [
    "#dataset save as csv file\n",
    "df_train.to_csv(r'dataset_new.csv',index=False)\n",
    "df_new = pd.read_csv(\"dataset_new.csv\")\n",
    "df1=df_new\n",
    "\n",
    "# check cluster label and set manually to each run\n",
    "df_new=df_new.replace({'cluster':0},7)\n",
    "df_new=df_new.replace({'cluster':1},8)\n",
    "df_new=df_new.replace({'cluster':2},5)\n",
    "df_new=df_new.replace({'cluster':3},6)\n",
    "\n",
    "df_new=df_new.replace({'cluster':5},1)\n",
    "df_new=df_new.replace({'cluster':6},2)\n",
    "df_new=df_new.replace({'cluster':7},3)\n",
    "df_new=df_new.replace({'cluster':8},4)\n",
    "\n"
   ]
  },
  {
   "cell_type": "code",
   "execution_count": 83,
   "metadata": {},
   "outputs": [
    {
     "data": {
      "text/html": [
       "<div>\n",
       "<style scoped>\n",
       "    .dataframe tbody tr th:only-of-type {\n",
       "        vertical-align: middle;\n",
       "    }\n",
       "\n",
       "    .dataframe tbody tr th {\n",
       "        vertical-align: top;\n",
       "    }\n",
       "\n",
       "    .dataframe thead th {\n",
       "        text-align: right;\n",
       "    }\n",
       "</style>\n",
       "<table border=\"1\" class=\"dataframe\">\n",
       "  <thead>\n",
       "    <tr style=\"text-align: right;\">\n",
       "      <th></th>\n",
       "      <th>a2cloud_score</th>\n",
       "      <th>Cost(per hour USD)</th>\n",
       "      <th>Instance</th>\n",
       "      <th>cluster</th>\n",
       "    </tr>\n",
       "  </thead>\n",
       "  <tbody>\n",
       "    <tr>\n",
       "      <td>0</td>\n",
       "      <td>7.575632</td>\n",
       "      <td>0.0450</td>\n",
       "      <td>Lin.C</td>\n",
       "      <td>2</td>\n",
       "    </tr>\n",
       "    <tr>\n",
       "      <td>1</td>\n",
       "      <td>6.809114</td>\n",
       "      <td>0.0150</td>\n",
       "      <td>Lin.G</td>\n",
       "      <td>2</td>\n",
       "    </tr>\n",
       "    <tr>\n",
       "      <td>2</td>\n",
       "      <td>2.071931</td>\n",
       "      <td>0.0208</td>\n",
       "      <td>t3.small</td>\n",
       "      <td>4</td>\n",
       "    </tr>\n",
       "    <tr>\n",
       "      <td>3</td>\n",
       "      <td>3.700639</td>\n",
       "      <td>0.0464</td>\n",
       "      <td>t2.medium</td>\n",
       "      <td>3</td>\n",
       "    </tr>\n",
       "    <tr>\n",
       "      <td>4</td>\n",
       "      <td>3.728346</td>\n",
       "      <td>0.0928</td>\n",
       "      <td>t2.large</td>\n",
       "      <td>3</td>\n",
       "    </tr>\n",
       "    <tr>\n",
       "      <td>5</td>\n",
       "      <td>4.960293</td>\n",
       "      <td>0.0832</td>\n",
       "      <td>B2ms</td>\n",
       "      <td>3</td>\n",
       "    </tr>\n",
       "    <tr>\n",
       "      <td>6</td>\n",
       "      <td>6.371554</td>\n",
       "      <td>0.0450</td>\n",
       "      <td>Lin.C</td>\n",
       "      <td>2</td>\n",
       "    </tr>\n",
       "    <tr>\n",
       "      <td>7</td>\n",
       "      <td>4.627269</td>\n",
       "      <td>0.0850</td>\n",
       "      <td>F2s</td>\n",
       "      <td>3</td>\n",
       "    </tr>\n",
       "    <tr>\n",
       "      <td>8</td>\n",
       "      <td>5.025384</td>\n",
       "      <td>0.0832</td>\n",
       "      <td>B2ms</td>\n",
       "      <td>3</td>\n",
       "    </tr>\n",
       "    <tr>\n",
       "      <td>9</td>\n",
       "      <td>3.774273</td>\n",
       "      <td>0.0928</td>\n",
       "      <td>t2.large</td>\n",
       "      <td>3</td>\n",
       "    </tr>\n",
       "  </tbody>\n",
       "</table>\n",
       "</div>"
      ],
      "text/plain": [
       "   a2cloud_score  Cost(per hour USD)   Instance  cluster\n",
       "0       7.575632              0.0450      Lin.C        2\n",
       "1       6.809114              0.0150      Lin.G        2\n",
       "2       2.071931              0.0208   t3.small        4\n",
       "3       3.700639              0.0464  t2.medium        3\n",
       "4       3.728346              0.0928   t2.large        3\n",
       "5       4.960293              0.0832       B2ms        3\n",
       "6       6.371554              0.0450      Lin.C        2\n",
       "7       4.627269              0.0850        F2s        3\n",
       "8       5.025384              0.0832       B2ms        3\n",
       "9       3.774273              0.0928   t2.large        3"
      ]
     },
     "execution_count": 83,
     "metadata": {},
     "output_type": "execute_result"
    }
   ],
   "source": [
    "df_new.head(10)\n"
   ]
  },
  {
   "cell_type": "code",
   "execution_count": 84,
   "metadata": {},
   "outputs": [
    {
     "data": {
      "text/html": [
       "<div>\n",
       "<style scoped>\n",
       "    .dataframe tbody tr th:only-of-type {\n",
       "        vertical-align: middle;\n",
       "    }\n",
       "\n",
       "    .dataframe tbody tr th {\n",
       "        vertical-align: top;\n",
       "    }\n",
       "\n",
       "    .dataframe thead th {\n",
       "        text-align: right;\n",
       "    }\n",
       "</style>\n",
       "<table border=\"1\" class=\"dataframe\">\n",
       "  <thead>\n",
       "    <tr style=\"text-align: right;\">\n",
       "      <th></th>\n",
       "      <th>a2cloud_score</th>\n",
       "      <th>Cost(per hour USD)</th>\n",
       "      <th>Instance</th>\n",
       "      <th>cluster</th>\n",
       "    </tr>\n",
       "  </thead>\n",
       "  <tbody>\n",
       "    <tr>\n",
       "      <td>290</td>\n",
       "      <td>10.000000</td>\n",
       "      <td>0.1184</td>\n",
       "      <td>N1M2</td>\n",
       "      <td>1</td>\n",
       "    </tr>\n",
       "    <tr>\n",
       "      <td>291</td>\n",
       "      <td>7.568714</td>\n",
       "      <td>0.0900</td>\n",
       "      <td>Lin.M</td>\n",
       "      <td>2</td>\n",
       "    </tr>\n",
       "    <tr>\n",
       "      <td>292</td>\n",
       "      <td>1.092361</td>\n",
       "      <td>0.0850</td>\n",
       "      <td>c5.large</td>\n",
       "      <td>4</td>\n",
       "    </tr>\n",
       "    <tr>\n",
       "      <td>293</td>\n",
       "      <td>1.325206</td>\n",
       "      <td>0.1000</td>\n",
       "      <td>m4.large</td>\n",
       "      <td>4</td>\n",
       "    </tr>\n",
       "    <tr>\n",
       "      <td>294</td>\n",
       "      <td>1.385623</td>\n",
       "      <td>0.0464</td>\n",
       "      <td>t2.medium</td>\n",
       "      <td>4</td>\n",
       "    </tr>\n",
       "    <tr>\n",
       "      <td>295</td>\n",
       "      <td>1.608541</td>\n",
       "      <td>0.0230</td>\n",
       "      <td>t2.small</td>\n",
       "      <td>4</td>\n",
       "    </tr>\n",
       "    <tr>\n",
       "      <td>296</td>\n",
       "      <td>1.000000</td>\n",
       "      <td>0.0752</td>\n",
       "      <td>t3a.large</td>\n",
       "      <td>4</td>\n",
       "    </tr>\n",
       "    <tr>\n",
       "      <td>297</td>\n",
       "      <td>1.748019</td>\n",
       "      <td>0.0376</td>\n",
       "      <td>t3a.medium</td>\n",
       "      <td>4</td>\n",
       "    </tr>\n",
       "    <tr>\n",
       "      <td>298</td>\n",
       "      <td>1.987044</td>\n",
       "      <td>0.0188</td>\n",
       "      <td>t3a.small</td>\n",
       "      <td>4</td>\n",
       "    </tr>\n",
       "    <tr>\n",
       "      <td>299</td>\n",
       "      <td>2.151279</td>\n",
       "      <td>0.0208</td>\n",
       "      <td>t3.small</td>\n",
       "      <td>4</td>\n",
       "    </tr>\n",
       "  </tbody>\n",
       "</table>\n",
       "</div>"
      ],
      "text/plain": [
       "     a2cloud_score  Cost(per hour USD)    Instance  cluster\n",
       "290      10.000000              0.1184        N1M2        1\n",
       "291       7.568714              0.0900       Lin.M        2\n",
       "292       1.092361              0.0850    c5.large        4\n",
       "293       1.325206              0.1000    m4.large        4\n",
       "294       1.385623              0.0464   t2.medium        4\n",
       "295       1.608541              0.0230    t2.small        4\n",
       "296       1.000000              0.0752   t3a.large        4\n",
       "297       1.748019              0.0376  t3a.medium        4\n",
       "298       1.987044              0.0188   t3a.small        4\n",
       "299       2.151279              0.0208    t3.small        4"
      ]
     },
     "execution_count": 84,
     "metadata": {},
     "output_type": "execute_result"
    }
   ],
   "source": [
    "df_new.tail(10)\n"
   ]
  },
  {
   "cell_type": "code",
   "execution_count": 85,
   "metadata": {},
   "outputs": [],
   "source": [
    "df_train=df_new"
   ]
  },
  {
   "cell_type": "markdown",
   "metadata": {},
   "source": [
    "# Training NB"
   ]
  },
  {
   "cell_type": "code",
   "execution_count": 86,
   "metadata": {},
   "outputs": [],
   "source": [
    "xtrain=df_train[['a2cloud_score','Cost(per hour USD)']]\n",
    "xtrain=xtrain[0:len_train]\n",
    "ytrain=df_train['cluster'].values.tolist()\n",
    "ytrain=ytrain[0:len_train]"
   ]
  },
  {
   "cell_type": "code",
   "execution_count": 87,
   "metadata": {},
   "outputs": [
    {
     "data": {
      "text/plain": [
       "GaussianNB(priors=None, var_smoothing=1e-09)"
      ]
     },
     "execution_count": 87,
     "metadata": {},
     "output_type": "execute_result"
    }
   ],
   "source": [
    "classifier = GaussianNB()\n",
    "classifier.fit(xtrain, ytrain)"
   ]
  },
  {
   "cell_type": "markdown",
   "metadata": {},
   "source": [
    "# Testing NB "
   ]
  },
  {
   "cell_type": "code",
   "execution_count": 88,
   "metadata": {},
   "outputs": [],
   "source": [
    "xtest=df_train[['a2cloud_score','Cost(per hour USD)']]\n",
    "xtest=xtest[len_train:length[0]]\n",
    "b=df_train['cluster'].values.tolist()\n",
    "\n",
    "y_actual=b[len_train:length[0]]\n"
   ]
  },
  {
   "cell_type": "code",
   "execution_count": 89,
   "metadata": {},
   "outputs": [],
   "source": [
    "y_pred = classifier.predict(xtest)\n"
   ]
  },
  {
   "cell_type": "code",
   "execution_count": 90,
   "metadata": {},
   "outputs": [
    {
     "name": "stdout",
     "output_type": "stream",
     "text": [
      "Model Accuracy is 97.91666666666666 %\n"
     ]
    }
   ],
   "source": [
    "print('Model Accuracy is',100*accuracy_score(y_pred,y_actual),'%')\n"
   ]
  },
  {
   "cell_type": "code",
   "execution_count": 91,
   "metadata": {},
   "outputs": [
    {
     "name": "stdout",
     "output_type": "stream",
     "text": [
      "[[ 4  0  0  0]\n",
      " [ 0  4  0  0]\n",
      " [ 0  0 26  1]\n",
      " [ 0  0  0 13]]\n"
     ]
    }
   ],
   "source": [
    "print(confusion_matrix(y_pred, y_actual))\n"
   ]
  },
  {
   "cell_type": "code",
   "execution_count": 92,
   "metadata": {},
   "outputs": [
    {
     "name": "stdout",
     "output_type": "stream",
     "text": [
      "              precision    recall  f1-score   support\n",
      "\n",
      "           1       1.00      1.00      1.00         4\n",
      "           2       1.00      1.00      1.00         4\n",
      "           3       1.00      0.96      0.98        27\n",
      "           4       0.93      1.00      0.96        13\n",
      "\n",
      "    accuracy                           0.98        48\n",
      "   macro avg       0.98      0.99      0.99        48\n",
      "weighted avg       0.98      0.98      0.98        48\n",
      "\n"
     ]
    }
   ],
   "source": [
    "print(classification_report( y_pred,y_actual))"
   ]
  },
  {
   "cell_type": "code",
   "execution_count": 93,
   "metadata": {},
   "outputs": [
    {
     "data": {
      "text/html": [
       "<div>\n",
       "<style scoped>\n",
       "    .dataframe tbody tr th:only-of-type {\n",
       "        vertical-align: middle;\n",
       "    }\n",
       "\n",
       "    .dataframe tbody tr th {\n",
       "        vertical-align: top;\n",
       "    }\n",
       "\n",
       "    .dataframe thead th {\n",
       "        text-align: right;\n",
       "    }\n",
       "</style>\n",
       "<table border=\"1\" class=\"dataframe\">\n",
       "  <thead>\n",
       "    <tr style=\"text-align: right;\">\n",
       "      <th></th>\n",
       "      <th>a2cloud_score</th>\n",
       "      <th>Cost(per hour USD)</th>\n",
       "      <th>Instance</th>\n",
       "      <th>cluster</th>\n",
       "    </tr>\n",
       "  </thead>\n",
       "  <tbody>\n",
       "    <tr>\n",
       "      <td>290</td>\n",
       "      <td>10.000000</td>\n",
       "      <td>0.1184</td>\n",
       "      <td>N1M2</td>\n",
       "      <td>1</td>\n",
       "    </tr>\n",
       "    <tr>\n",
       "      <td>291</td>\n",
       "      <td>7.568714</td>\n",
       "      <td>0.0900</td>\n",
       "      <td>Lin.M</td>\n",
       "      <td>2</td>\n",
       "    </tr>\n",
       "    <tr>\n",
       "      <td>292</td>\n",
       "      <td>1.092361</td>\n",
       "      <td>0.0850</td>\n",
       "      <td>c5.large</td>\n",
       "      <td>4</td>\n",
       "    </tr>\n",
       "    <tr>\n",
       "      <td>293</td>\n",
       "      <td>1.325206</td>\n",
       "      <td>0.1000</td>\n",
       "      <td>m4.large</td>\n",
       "      <td>4</td>\n",
       "    </tr>\n",
       "    <tr>\n",
       "      <td>294</td>\n",
       "      <td>1.385623</td>\n",
       "      <td>0.0464</td>\n",
       "      <td>t2.medium</td>\n",
       "      <td>4</td>\n",
       "    </tr>\n",
       "    <tr>\n",
       "      <td>295</td>\n",
       "      <td>1.608541</td>\n",
       "      <td>0.0230</td>\n",
       "      <td>t2.small</td>\n",
       "      <td>4</td>\n",
       "    </tr>\n",
       "    <tr>\n",
       "      <td>296</td>\n",
       "      <td>1.000000</td>\n",
       "      <td>0.0752</td>\n",
       "      <td>t3a.large</td>\n",
       "      <td>4</td>\n",
       "    </tr>\n",
       "    <tr>\n",
       "      <td>297</td>\n",
       "      <td>1.748019</td>\n",
       "      <td>0.0376</td>\n",
       "      <td>t3a.medium</td>\n",
       "      <td>4</td>\n",
       "    </tr>\n",
       "    <tr>\n",
       "      <td>298</td>\n",
       "      <td>1.987044</td>\n",
       "      <td>0.0188</td>\n",
       "      <td>t3a.small</td>\n",
       "      <td>4</td>\n",
       "    </tr>\n",
       "    <tr>\n",
       "      <td>299</td>\n",
       "      <td>2.151279</td>\n",
       "      <td>0.0208</td>\n",
       "      <td>t3.small</td>\n",
       "      <td>4</td>\n",
       "    </tr>\n",
       "  </tbody>\n",
       "</table>\n",
       "</div>"
      ],
      "text/plain": [
       "     a2cloud_score  Cost(per hour USD)    Instance  cluster\n",
       "290      10.000000              0.1184        N1M2        1\n",
       "291       7.568714              0.0900       Lin.M        2\n",
       "292       1.092361              0.0850    c5.large        4\n",
       "293       1.325206              0.1000    m4.large        4\n",
       "294       1.385623              0.0464   t2.medium        4\n",
       "295       1.608541              0.0230    t2.small        4\n",
       "296       1.000000              0.0752   t3a.large        4\n",
       "297       1.748019              0.0376  t3a.medium        4\n",
       "298       1.987044              0.0188   t3a.small        4\n",
       "299       2.151279              0.0208    t3.small        4"
      ]
     },
     "execution_count": 93,
     "metadata": {},
     "output_type": "execute_result"
    }
   ],
   "source": [
    "df_train.tail(10)"
   ]
  },
  {
   "cell_type": "markdown",
   "metadata": {},
   "source": [
    "### Plot Confusion Matrix "
   ]
  },
  {
   "cell_type": "code",
   "execution_count": 94,
   "metadata": {},
   "outputs": [
    {
     "data": {
      "image/png": "[encoded data removed]",
      "text/plain": [
       "<Figure size 432x288 with 1 Axes>"
      ]
     },
     "metadata": {
      "needs_background": "light"
     },
     "output_type": "display_data"
    }
   ],
   "source": [
    "\n",
    "a_label = [\"Bad\",\"Good\",\"Average\",\"Excellent\"]\n",
    "p_label = [\"Bad\",\"Good\",\"Average\",\"Excellent\"]\n",
    "\n",
    "cm=confusion_matrix(y_pred, y_actual)\n",
    "\n",
    "fig, ax = plt.subplots()\n",
    "im = ax.imshow(cm)\n",
    "\n",
    "# We want to show all ticks...\n",
    "ax.set_xticks(np.arange(len(a_label)))\n",
    "ax.set_yticks(np.arange(len(p_label)))\n",
    "# ... and label them with the respective list entries\n",
    "ax.set_xticklabels(a_label)\n",
    "ax.set_yticklabels(a_label)\n",
    "ax.set_ylim(len(cm)-0.5, -0.5)\n",
    "\n",
    "# Rotate the tick labels and set their alignment.\n",
    "plt.setp(ax.get_xticklabels(), rotation=45, ha=\"right\",\n",
    "         rotation_mode=\"anchor\")\n",
    "\n",
    "# Loop over data dimensions and create text annotations.\n",
    "for i in range(len(a_label)):\n",
    "    for j in range(len(p_label)):\n",
    "        text = ax.text(j, i, cm[i, j],\n",
    "                       ha=\"center\", va=\"center\", color=\"w\")\n",
    "ax.set_xlabel(\"Predicted Label\")        \n",
    "ax.set_ylabel(\"True Label\")        \n",
    "\n",
    "#ax.set_title(\"Harvest of local farmers (in tons/year)\")\n",
    "fig.tight_layout()\n",
    "plt.show()"
   ]
  },
  {
   "cell_type": "markdown",
   "metadata": {},
   "source": [
    "# QODE VERIFICATION"
   ]
  },
  {
   "cell_type": "code",
   "execution_count": 95,
   "metadata": {},
   "outputs": [],
   "source": [
    "# read qode dataset \n",
    "x_qode=df_QODE[['a2cloud_score','Cost(per hour USD)']]\n"
   ]
  },
  {
   "cell_type": "code",
   "execution_count": 96,
   "metadata": {},
   "outputs": [],
   "source": [
    "# make predictions \n",
    "y_pred = classifier.predict(x_qode)\n",
    "\n",
    "# read actual output value from dataset \n",
    "y_actual=b[240:300]"
   ]
  },
  {
   "cell_type": "code",
   "execution_count": 97,
   "metadata": {},
   "outputs": [
    {
     "name": "stdout",
     "output_type": "stream",
     "text": [
      "Model Accuracy is 86.66666666666667 %\n"
     ]
    }
   ],
   "source": [
    "print('Model Accuracy is',100*accuracy_score(y_pred,y_actual),'%')\n"
   ]
  },
  {
   "cell_type": "code",
   "execution_count": 98,
   "metadata": {},
   "outputs": [
    {
     "data": {
      "image/png": "[encoded data removed]",
      "text/plain": [
       "<Figure size 432x288 with 1 Axes>"
      ]
     },
     "metadata": {
      "needs_background": "light"
     },
     "output_type": "display_data"
    }
   ],
   "source": [
    "a_label = [\"Bad\",\"Good\",\"Average\",\"Excellent\"]\n",
    "p_label = [\"Bad\",\"Good\",\"Average\",\"Excellent\"]\n",
    "\n",
    "cm=confusion_matrix(y_pred, y_actual)\n",
    "\n",
    "fig, ax = plt.subplots()\n",
    "im = ax.imshow(cm)\n",
    "\n",
    "# We want to show all ticks...\n",
    "ax.set_xticks(np.arange(len(a_label)))\n",
    "ax.set_yticks(np.arange(len(p_label)))\n",
    "# ... and label them with the respective list entries\n",
    "ax.set_xticklabels(a_label)\n",
    "ax.set_yticklabels(a_label)\n",
    "ax.set_ylim(len(cm)-0.5, -0.5)\n",
    "\n",
    "# Rotate the tick labels and set their alignment.\n",
    "plt.setp(ax.get_xticklabels(), rotation=45, ha=\"right\",\n",
    "         rotation_mode=\"anchor\")\n",
    "\n",
    "# Loop over data dimensions and create text annotations.\n",
    "for i in range(len(a_label)):\n",
    "    for j in range(len(p_label)):\n",
    "        text = ax.text(j, i, cm[i, j],\n",
    "                       ha=\"center\", va=\"center\", color=\"w\")\n",
    "ax.set_xlabel(\"Predicted Label\")        \n",
    "ax.set_ylabel(\"True Label\")        \n",
    "\n",
    "#ax.set_title(\"Harvest of local farmers (in tons/year)\")\n",
    "fig.tight_layout()\n",
    "plt.show()"
   ]
  },
  {
   "cell_type": "code",
   "execution_count": 99,
   "metadata": {},
   "outputs": [
    {
     "data": {
      "text/plain": [
       "array([2, 2, 2, 2, 3, 2, 2, 1, 2, 2, 2, 2, 4, 4, 4, 4, 4, 4, 4, 4, 2, 2,\n",
       "       2, 2, 3, 2, 2, 2, 2, 2, 2, 1, 4, 4, 4, 4, 4, 4, 4, 3, 3, 2, 2, 2,\n",
       "       3, 2, 2, 2, 2, 2, 1, 2, 4, 4, 4, 4, 4, 4, 4, 4])"
      ]
     },
     "execution_count": 99,
     "metadata": {},
     "output_type": "execute_result"
    }
   ],
   "source": [
    "y_pred"
   ]
  },
  {
   "cell_type": "code",
   "execution_count": 100,
   "metadata": {},
   "outputs": [
    {
     "name": "stdout",
     "output_type": "stream",
     "text": [
      "              precision    recall  f1-score   support\n",
      "\n",
      "           1       0.30      1.00      0.46         3\n",
      "           2       1.00      0.76      0.86        29\n",
      "           3       1.00      0.80      0.89         5\n",
      "           4       0.96      1.00      0.98        23\n",
      "\n",
      "    accuracy                           0.87        60\n",
      "   macro avg       0.81      0.89      0.80        60\n",
      "weighted avg       0.95      0.87      0.89        60\n",
      "\n"
     ]
    }
   ],
   "source": [
    "print(classification_report( y_pred,y_actual))"
   ]
  },
  {
   "cell_type": "markdown",
   "metadata": {},
   "source": [
    "# Get Instance Suggestion for New application: Input=[A2Cloud_score, cost_per_hour]"
   ]
  },
  {
   "cell_type": "code",
   "execution_count": 133,
   "metadata": {},
   "outputs": [
    {
     "name": "stdout",
     "output_type": "stream",
     "text": [
      " A2Cloud Score (1 to 10): 2\n",
      "Cost of instance (per hour): 2\n"
     ]
    }
   ],
   "source": [
    "# Input from user \n",
    "\n",
    "A2Cloud_score = float(input(' A2Cloud Score (1 to 10): '))\n",
    "cost = float(input('Cost of instance (per hour): '))\n",
    "\n",
    "def Prediction(A2Cloud_score,cost):\n",
    "    y_pred = classifier.predict((np.array([A2Cloud_score,cost])).reshape(1, -1))[0]\n",
    "    return y_pred\n",
    "    \n",
    "\n",
    "guess_cluster=Prediction(A2Cloud_score,cost) \n",
    "\n",
    "training=df_train[0:len_train]\n",
    "\n",
    "training=training[training['cluster']==guess_cluster]\n"
   ]
  },
  {
   "cell_type": "code",
   "execution_count": 142,
   "metadata": {},
   "outputs": [
    {
     "data": {
      "text/plain": [
       "array(['Lin.C', 'Lin.G', 'Lin.M', 'E2s'], dtype=object)"
      ]
     },
     "execution_count": 142,
     "metadata": {},
     "output_type": "execute_result"
    }
   ],
   "source": [
    "instance=training['Instance'].unique()\n",
    "instance"
   ]
  },
  {
   "cell_type": "code",
   "execution_count": 140,
   "metadata": {},
   "outputs": [
    {
     "data": {
      "text/html": [
       "<div>\n",
       "<style scoped>\n",
       "    .dataframe tbody tr th:only-of-type {\n",
       "        vertical-align: middle;\n",
       "    }\n",
       "\n",
       "    .dataframe tbody tr th {\n",
       "        vertical-align: top;\n",
       "    }\n",
       "\n",
       "    .dataframe thead th {\n",
       "        text-align: right;\n",
       "    }\n",
       "</style>\n",
       "<table border=\"1\" class=\"dataframe\">\n",
       "  <thead>\n",
       "    <tr style=\"text-align: right;\">\n",
       "      <th></th>\n",
       "      <th>a2cloud_score</th>\n",
       "      <th>Cost(per hour USD)</th>\n",
       "      <th>Instance</th>\n",
       "      <th>cluster</th>\n",
       "    </tr>\n",
       "  </thead>\n",
       "  <tbody>\n",
       "    <tr>\n",
       "      <td>0</td>\n",
       "      <td>7.575632</td>\n",
       "      <td>0.045</td>\n",
       "      <td>Lin.C</td>\n",
       "      <td>2</td>\n",
       "    </tr>\n",
       "    <tr>\n",
       "      <td>1</td>\n",
       "      <td>6.809114</td>\n",
       "      <td>0.015</td>\n",
       "      <td>Lin.G</td>\n",
       "      <td>2</td>\n",
       "    </tr>\n",
       "    <tr>\n",
       "      <td>6</td>\n",
       "      <td>6.371554</td>\n",
       "      <td>0.045</td>\n",
       "      <td>Lin.C</td>\n",
       "      <td>2</td>\n",
       "    </tr>\n",
       "    <tr>\n",
       "      <td>16</td>\n",
       "      <td>7.141438</td>\n",
       "      <td>0.090</td>\n",
       "      <td>Lin.M</td>\n",
       "      <td>2</td>\n",
       "    </tr>\n",
       "    <tr>\n",
       "      <td>25</td>\n",
       "      <td>6.261005</td>\n",
       "      <td>0.015</td>\n",
       "      <td>Lin.G</td>\n",
       "      <td>2</td>\n",
       "    </tr>\n",
       "    <tr>\n",
       "      <td>43</td>\n",
       "      <td>6.589029</td>\n",
       "      <td>0.015</td>\n",
       "      <td>Lin.G</td>\n",
       "      <td>2</td>\n",
       "    </tr>\n",
       "    <tr>\n",
       "      <td>44</td>\n",
       "      <td>6.838046</td>\n",
       "      <td>0.090</td>\n",
       "      <td>Lin.M</td>\n",
       "      <td>2</td>\n",
       "    </tr>\n",
       "    <tr>\n",
       "      <td>64</td>\n",
       "      <td>6.765125</td>\n",
       "      <td>0.045</td>\n",
       "      <td>Lin.C</td>\n",
       "      <td>2</td>\n",
       "    </tr>\n",
       "    <tr>\n",
       "      <td>77</td>\n",
       "      <td>7.004490</td>\n",
       "      <td>0.045</td>\n",
       "      <td>Lin.C</td>\n",
       "      <td>2</td>\n",
       "    </tr>\n",
       "    <tr>\n",
       "      <td>89</td>\n",
       "      <td>7.064559</td>\n",
       "      <td>0.045</td>\n",
       "      <td>Lin.C</td>\n",
       "      <td>2</td>\n",
       "    </tr>\n",
       "    <tr>\n",
       "      <td>98</td>\n",
       "      <td>6.957039</td>\n",
       "      <td>0.090</td>\n",
       "      <td>Lin.M</td>\n",
       "      <td>2</td>\n",
       "    </tr>\n",
       "    <tr>\n",
       "      <td>105</td>\n",
       "      <td>7.246945</td>\n",
       "      <td>0.045</td>\n",
       "      <td>Lin.C</td>\n",
       "      <td>2</td>\n",
       "    </tr>\n",
       "    <tr>\n",
       "      <td>110</td>\n",
       "      <td>6.476664</td>\n",
       "      <td>0.015</td>\n",
       "      <td>Lin.G</td>\n",
       "      <td>2</td>\n",
       "    </tr>\n",
       "    <tr>\n",
       "      <td>139</td>\n",
       "      <td>6.199707</td>\n",
       "      <td>0.045</td>\n",
       "      <td>Lin.C</td>\n",
       "      <td>2</td>\n",
       "    </tr>\n",
       "    <tr>\n",
       "      <td>143</td>\n",
       "      <td>6.372377</td>\n",
       "      <td>0.015</td>\n",
       "      <td>Lin.G</td>\n",
       "      <td>2</td>\n",
       "    </tr>\n",
       "    <tr>\n",
       "      <td>145</td>\n",
       "      <td>5.759592</td>\n",
       "      <td>0.015</td>\n",
       "      <td>Lin.G</td>\n",
       "      <td>2</td>\n",
       "    </tr>\n",
       "    <tr>\n",
       "      <td>149</td>\n",
       "      <td>6.077233</td>\n",
       "      <td>0.126</td>\n",
       "      <td>E2s</td>\n",
       "      <td>2</td>\n",
       "    </tr>\n",
       "    <tr>\n",
       "      <td>150</td>\n",
       "      <td>7.487252</td>\n",
       "      <td>0.090</td>\n",
       "      <td>Lin.M</td>\n",
       "      <td>2</td>\n",
       "    </tr>\n",
       "    <tr>\n",
       "      <td>157</td>\n",
       "      <td>7.568070</td>\n",
       "      <td>0.090</td>\n",
       "      <td>Lin.M</td>\n",
       "      <td>2</td>\n",
       "    </tr>\n",
       "    <tr>\n",
       "      <td>160</td>\n",
       "      <td>7.318509</td>\n",
       "      <td>0.045</td>\n",
       "      <td>Lin.C</td>\n",
       "      <td>2</td>\n",
       "    </tr>\n",
       "    <tr>\n",
       "      <td>166</td>\n",
       "      <td>7.407602</td>\n",
       "      <td>0.090</td>\n",
       "      <td>Lin.M</td>\n",
       "      <td>2</td>\n",
       "    </tr>\n",
       "    <tr>\n",
       "      <td>169</td>\n",
       "      <td>6.106359</td>\n",
       "      <td>0.126</td>\n",
       "      <td>E2s</td>\n",
       "      <td>2</td>\n",
       "    </tr>\n",
       "    <tr>\n",
       "      <td>171</td>\n",
       "      <td>6.547462</td>\n",
       "      <td>0.045</td>\n",
       "      <td>Lin.C</td>\n",
       "      <td>2</td>\n",
       "    </tr>\n",
       "    <tr>\n",
       "      <td>173</td>\n",
       "      <td>6.049015</td>\n",
       "      <td>0.015</td>\n",
       "      <td>Lin.G</td>\n",
       "      <td>2</td>\n",
       "    </tr>\n",
       "    <tr>\n",
       "      <td>184</td>\n",
       "      <td>5.556976</td>\n",
       "      <td>0.015</td>\n",
       "      <td>Lin.G</td>\n",
       "      <td>2</td>\n",
       "    </tr>\n",
       "  </tbody>\n",
       "</table>\n",
       "</div>"
      ],
      "text/plain": [
       "     a2cloud_score  Cost(per hour USD) Instance  cluster\n",
       "0         7.575632               0.045    Lin.C        2\n",
       "1         6.809114               0.015    Lin.G        2\n",
       "6         6.371554               0.045    Lin.C        2\n",
       "16        7.141438               0.090    Lin.M        2\n",
       "25        6.261005               0.015    Lin.G        2\n",
       "43        6.589029               0.015    Lin.G        2\n",
       "44        6.838046               0.090    Lin.M        2\n",
       "64        6.765125               0.045    Lin.C        2\n",
       "77        7.004490               0.045    Lin.C        2\n",
       "89        7.064559               0.045    Lin.C        2\n",
       "98        6.957039               0.090    Lin.M        2\n",
       "105       7.246945               0.045    Lin.C        2\n",
       "110       6.476664               0.015    Lin.G        2\n",
       "139       6.199707               0.045    Lin.C        2\n",
       "143       6.372377               0.015    Lin.G        2\n",
       "145       5.759592               0.015    Lin.G        2\n",
       "149       6.077233               0.126      E2s        2\n",
       "150       7.487252               0.090    Lin.M        2\n",
       "157       7.568070               0.090    Lin.M        2\n",
       "160       7.318509               0.045    Lin.C        2\n",
       "166       7.407602               0.090    Lin.M        2\n",
       "169       6.106359               0.126      E2s        2\n",
       "171       6.547462               0.045    Lin.C        2\n",
       "173       6.049015               0.015    Lin.G        2\n",
       "184       5.556976               0.015    Lin.G        2"
      ]
     },
     "execution_count": 140,
     "metadata": {},
     "output_type": "execute_result"
    }
   ],
   "source": [
    "training"
   ]
  },
  {
   "cell_type": "code",
   "execution_count": null,
   "metadata": {},
   "outputs": [],
   "source": []
  }
 ],
 "metadata": {
  "kernelspec": {
   "display_name": "Python 3",
   "language": "python",
   "name": "python3"
  },
  "language_info": {
   "codemirror_mode": {
    "name": "ipython",
    "version": 3
   },
   "file_extension": ".py",
   "mimetype": "text/x-python",
   "name": "python",
   "nbconvert_exporter": "python",
   "pygments_lexer": "ipython3",
   "version": "3.7.4"
  }
 },
 "nbformat": 4,
 "nbformat_minor": 2
}
