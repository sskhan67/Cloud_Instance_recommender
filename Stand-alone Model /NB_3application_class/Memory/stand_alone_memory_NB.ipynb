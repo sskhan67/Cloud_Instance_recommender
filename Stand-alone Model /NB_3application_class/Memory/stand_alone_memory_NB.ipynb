{
 "cells": [
  {
   "cell_type": "markdown",
   "metadata": {},
   "source": [
    "# Title: Cloud Instances Recommender for Stand-alone memory-intensive Class Application"
   ]
  },
  {
   "cell_type": "markdown",
   "metadata": {},
   "source": [
    "# Load Library\n"
   ]
  },
  {
   "cell_type": "code",
   "execution_count": 1,
   "metadata": {},
   "outputs": [],
   "source": [
    "import pandas as pd\n",
    "import matplotlib.pyplot as plt\n",
    "import math\n",
    "from sklearn.cluster import KMeans\n",
    "from sklearn import preprocessing\n",
    "import numpy as np\n",
    "import math\n",
    "from statistics import mean \n",
    "import statistics\n",
    "from sklearn.naive_bayes import GaussianNB\n",
    "from sklearn.metrics import confusion_matrix\n",
    "from sklearn.metrics import accuracy_score\n",
    "from sklearn.metrics import classification_report,confusion_matrix\n",
    "from sklearn import metrics\n",
    "from sklearn.metrics import mean_absolute_error\n",
    "from sklearn.metrics import classification_report,confusion_matrix\n",
    "from sklearn.utils import shuffle\n",
    "\n",
    "%matplotlib inline"
   ]
  },
  {
   "cell_type": "markdown",
   "metadata": {},
   "source": [
    "# Read Dataset "
   ]
  },
  {
   "cell_type": "code",
   "execution_count": 2,
   "metadata": {},
   "outputs": [
    {
     "data": {
      "text/html": [
       "<div>\n",
       "<style scoped>\n",
       "    .dataframe tbody tr th:only-of-type {\n",
       "        vertical-align: middle;\n",
       "    }\n",
       "\n",
       "    .dataframe tbody tr th {\n",
       "        vertical-align: top;\n",
       "    }\n",
       "\n",
       "    .dataframe thead th {\n",
       "        text-align: right;\n",
       "    }\n",
       "</style>\n",
       "<table border=\"1\" class=\"dataframe\">\n",
       "  <thead>\n",
       "    <tr style=\"text-align: right;\">\n",
       "      <th></th>\n",
       "      <th>a2cloud_score</th>\n",
       "      <th>Cost(per hour USD)</th>\n",
       "      <th>Instance</th>\n",
       "    </tr>\n",
       "  </thead>\n",
       "  <tbody>\n",
       "    <tr>\n",
       "      <td>0</td>\n",
       "      <td>4.873968</td>\n",
       "      <td>0.0928</td>\n",
       "      <td>t2.large</td>\n",
       "    </tr>\n",
       "    <tr>\n",
       "      <td>1</td>\n",
       "      <td>6.531882</td>\n",
       "      <td>0.0832</td>\n",
       "      <td>B2ms</td>\n",
       "    </tr>\n",
       "    <tr>\n",
       "      <td>2</td>\n",
       "      <td>9.609185</td>\n",
       "      <td>0.0950</td>\n",
       "      <td>N1s2</td>\n",
       "    </tr>\n",
       "    <tr>\n",
       "      <td>3</td>\n",
       "      <td>10.000000</td>\n",
       "      <td>0.0150</td>\n",
       "      <td>Lin.G</td>\n",
       "    </tr>\n",
       "    <tr>\n",
       "      <td>4</td>\n",
       "      <td>5.085807</td>\n",
       "      <td>0.1000</td>\n",
       "      <td>c4.large</td>\n",
       "    </tr>\n",
       "    <tr>\n",
       "      <td>...</td>\n",
       "      <td>...</td>\n",
       "      <td>...</td>\n",
       "      <td>...</td>\n",
       "    </tr>\n",
       "    <tr>\n",
       "      <td>1195</td>\n",
       "      <td>6.324760</td>\n",
       "      <td>0.0230</td>\n",
       "      <td>t2.small</td>\n",
       "    </tr>\n",
       "    <tr>\n",
       "      <td>1196</td>\n",
       "      <td>1.000000</td>\n",
       "      <td>0.0752</td>\n",
       "      <td>t3a.large</td>\n",
       "    </tr>\n",
       "    <tr>\n",
       "      <td>1197</td>\n",
       "      <td>1.168738</td>\n",
       "      <td>0.0376</td>\n",
       "      <td>t3a.medium</td>\n",
       "    </tr>\n",
       "    <tr>\n",
       "      <td>1198</td>\n",
       "      <td>2.469611</td>\n",
       "      <td>0.0188</td>\n",
       "      <td>t3a.small</td>\n",
       "    </tr>\n",
       "    <tr>\n",
       "      <td>1199</td>\n",
       "      <td>5.284107</td>\n",
       "      <td>0.0208</td>\n",
       "      <td>t3.small</td>\n",
       "    </tr>\n",
       "  </tbody>\n",
       "</table>\n",
       "<p>1200 rows × 3 columns</p>\n",
       "</div>"
      ],
      "text/plain": [
       "      a2cloud_score  Cost(per hour USD)    Instance\n",
       "0          4.873968              0.0928    t2.large\n",
       "1          6.531882              0.0832        B2ms\n",
       "2          9.609185              0.0950        N1s2\n",
       "3         10.000000              0.0150       Lin.G\n",
       "4          5.085807              0.1000    c4.large\n",
       "...             ...                 ...         ...\n",
       "1195       6.324760              0.0230    t2.small\n",
       "1196       1.000000              0.0752   t3a.large\n",
       "1197       1.168738              0.0376  t3a.medium\n",
       "1198       2.469611              0.0188   t3a.small\n",
       "1199       5.284107              0.0208    t3.small\n",
       "\n",
       "[1200 rows x 3 columns]"
      ]
     },
     "execution_count": 2,
     "metadata": {},
     "output_type": "execute_result"
    }
   ],
   "source": [
    "# dataset best case a2cloud score \n",
    "df_train = pd.read_csv(\"standalone_memory_a2cloudscore.csv\")\n",
    "# scala verification dataset  \n",
    "df_scala = pd.read_csv(\"standalone_memory_a2cloudscore_scala_runtime_verfi.csv\")\n",
    "\n",
    "df_train"
   ]
  },
  {
   "cell_type": "code",
   "execution_count": 3,
   "metadata": {},
   "outputs": [],
   "source": [
    "df_train = shuffle(df_train)\n",
    "\n",
    "df_train=df_train.append(df_scala)# add verification: Kmeans and plot purposes \n"
   ]
  },
  {
   "cell_type": "markdown",
   "metadata": {},
   "source": [
    "# Data Plot "
   ]
  },
  {
   "cell_type": "code",
   "execution_count": 4,
   "metadata": {},
   "outputs": [
    {
     "data": {
      "image/png": "[encoded data removed]",
      "text/plain": [
       "<Figure size 720x720 with 1 Axes>"
      ]
     },
     "metadata": {
      "needs_background": "light"
     },
     "output_type": "display_data"
    }
   ],
   "source": [
    "fig = plt.figure(figsize=(10, 10))\n",
    "\n",
    "plt.scatter(df_train.iloc[:,1:2],df_train.iloc[:,0:1],  marker='o')\n",
    "plt.xlabel('Cost [$ per hour]')\n",
    "plt.ylabel('A2Cloud Score')\n",
    "plt.show()"
   ]
  },
  {
   "cell_type": "markdown",
   "metadata": {},
   "source": [
    "# K Means "
   ]
  },
  {
   "cell_type": "code",
   "execution_count": 5,
   "metadata": {},
   "outputs": [
    {
     "data": {
      "text/plain": [
       "array([0, 1, 0, ..., 1, 1, 1], dtype=int32)"
      ]
     },
     "execution_count": 5,
     "metadata": {},
     "output_type": "execute_result"
    }
   ],
   "source": [
    "X=df_train.iloc[:,0:2]\n",
    "model = KMeans(n_clusters = 4)\n",
    "kmeans=model.fit(X)\n",
    "labels = kmeans.labels_ # creating classification columns for supervised learning \n",
    "labels"
   ]
  },
  {
   "cell_type": "code",
   "execution_count": 6,
   "metadata": {},
   "outputs": [],
   "source": [
    "df_train['cluster']=labels"
   ]
  },
  {
   "cell_type": "markdown",
   "metadata": {},
   "source": [
    "# Clusters Plot"
   ]
  },
  {
   "cell_type": "code",
   "execution_count": 7,
   "metadata": {},
   "outputs": [
    {
     "data": {
      "text/plain": [
       "Text(0, 0.5, 'A2Cloud Score')"
      ]
     },
     "execution_count": 7,
     "metadata": {},
     "output_type": "execute_result"
    },
    {
     "data": {
      "image/png": "[encoded data removed]",
      "text/plain": [
       "<Figure size 720x720 with 1 Axes>"
      ]
     },
     "metadata": {
      "needs_background": "light"
     },
     "output_type": "display_data"
    }
   ],
   "source": [
    "fig = plt.figure(figsize=(10, 10))\n",
    " # Create a colormap\n",
    "colormap = np.array(['green', 'red','yellow','orange'])\n",
    "plt.scatter(df_train.iloc[:,1:2], df_train.iloc[:,0:1], c=colormap[model.labels_], edgecolor = 'black', s = 100)\n",
    "plt.title('K Mean Clustering: 4 cluster  ')\n",
    "plt.xlabel('Cost [$ per hour]')\n",
    "plt.ylabel('A2Cloud Score')"
   ]
  },
  {
   "cell_type": "code",
   "execution_count": 8,
   "metadata": {},
   "outputs": [],
   "source": [
    "### Cluster Number conversion: 4-excellent, 3-good, 2-avg, 1- bad"
   ]
  },
  {
   "cell_type": "code",
   "execution_count": 9,
   "metadata": {},
   "outputs": [
    {
     "data": {
      "text/html": [
       "<div>\n",
       "<style scoped>\n",
       "    .dataframe tbody tr th:only-of-type {\n",
       "        vertical-align: middle;\n",
       "    }\n",
       "\n",
       "    .dataframe tbody tr th {\n",
       "        vertical-align: top;\n",
       "    }\n",
       "\n",
       "    .dataframe thead th {\n",
       "        text-align: right;\n",
       "    }\n",
       "</style>\n",
       "<table border=\"1\" class=\"dataframe\">\n",
       "  <thead>\n",
       "    <tr style=\"text-align: right;\">\n",
       "      <th></th>\n",
       "      <th>a2cloud_score</th>\n",
       "      <th>Cost(per hour USD)</th>\n",
       "      <th>Instance</th>\n",
       "      <th>cluster</th>\n",
       "    </tr>\n",
       "  </thead>\n",
       "  <tbody>\n",
       "    <tr>\n",
       "      <td>1168</td>\n",
       "      <td>8.392074</td>\n",
       "      <td>0.1330</td>\n",
       "      <td>r4.large</td>\n",
       "      <td>0</td>\n",
       "    </tr>\n",
       "    <tr>\n",
       "      <td>316</td>\n",
       "      <td>1.000000</td>\n",
       "      <td>0.0752</td>\n",
       "      <td>t3a.large</td>\n",
       "      <td>1</td>\n",
       "    </tr>\n",
       "    <tr>\n",
       "      <td>703</td>\n",
       "      <td>9.855300</td>\n",
       "      <td>0.0150</td>\n",
       "      <td>Lin.G</td>\n",
       "      <td>0</td>\n",
       "    </tr>\n",
       "    <tr>\n",
       "      <td>670</td>\n",
       "      <td>9.461298</td>\n",
       "      <td>0.1184</td>\n",
       "      <td>N1M2</td>\n",
       "      <td>0</td>\n",
       "    </tr>\n",
       "    <tr>\n",
       "      <td>462</td>\n",
       "      <td>8.331257</td>\n",
       "      <td>0.0950</td>\n",
       "      <td>N1s2</td>\n",
       "      <td>0</td>\n",
       "    </tr>\n",
       "    <tr>\n",
       "      <td>380</td>\n",
       "      <td>4.807231</td>\n",
       "      <td>0.0928</td>\n",
       "      <td>t2.large</td>\n",
       "      <td>3</td>\n",
       "    </tr>\n",
       "    <tr>\n",
       "      <td>1043</td>\n",
       "      <td>8.801770</td>\n",
       "      <td>0.0150</td>\n",
       "      <td>Lin.G</td>\n",
       "      <td>0</td>\n",
       "    </tr>\n",
       "    <tr>\n",
       "      <td>1192</td>\n",
       "      <td>4.757761</td>\n",
       "      <td>0.0850</td>\n",
       "      <td>c5.large</td>\n",
       "      <td>3</td>\n",
       "    </tr>\n",
       "    <tr>\n",
       "      <td>614</td>\n",
       "      <td>5.567884</td>\n",
       "      <td>0.0464</td>\n",
       "      <td>t2.medium</td>\n",
       "      <td>2</td>\n",
       "    </tr>\n",
       "    <tr>\n",
       "      <td>451</td>\n",
       "      <td>9.204745</td>\n",
       "      <td>0.0900</td>\n",
       "      <td>Lin.M</td>\n",
       "      <td>0</td>\n",
       "    </tr>\n",
       "  </tbody>\n",
       "</table>\n",
       "</div>"
      ],
      "text/plain": [
       "      a2cloud_score  Cost(per hour USD)   Instance  cluster\n",
       "1168       8.392074              0.1330   r4.large        0\n",
       "316        1.000000              0.0752  t3a.large        1\n",
       "703        9.855300              0.0150      Lin.G        0\n",
       "670        9.461298              0.1184       N1M2        0\n",
       "462        8.331257              0.0950       N1s2        0\n",
       "380        4.807231              0.0928   t2.large        3\n",
       "1043       8.801770              0.0150      Lin.G        0\n",
       "1192       4.757761              0.0850   c5.large        3\n",
       "614        5.567884              0.0464  t2.medium        2\n",
       "451        9.204745              0.0900      Lin.M        0"
      ]
     },
     "execution_count": 9,
     "metadata": {},
     "output_type": "execute_result"
    }
   ],
   "source": [
    "df_train.head(10)"
   ]
  },
  {
   "cell_type": "code",
   "execution_count": 11,
   "metadata": {},
   "outputs": [],
   "source": [
    "#dataset save as csv file\n",
    "df_train.to_csv(r'dataset_new.csv',index=False)\n",
    "df_new = pd.read_csv(\"dataset_new.csv\")\n",
    "df1=df_new\n",
    "\n",
    "# check cluster label and set manually to each run\n",
    "df_new=df_new.replace({'cluster':0},5)\n",
    "df_new=df_new.replace({'cluster':1},8)\n",
    "df_new=df_new.replace({'cluster':2},6)\n",
    "df_new=df_new.replace({'cluster':3},7)\n",
    "\n",
    "df_new=df_new.replace({'cluster':5},1)\n",
    "df_new=df_new.replace({'cluster':6},2)\n",
    "df_new=df_new.replace({'cluster':7},3)\n",
    "df_new=df_new.replace({'cluster':8},4)"
   ]
  },
  {
   "cell_type": "code",
   "execution_count": 12,
   "metadata": {},
   "outputs": [
    {
     "data": {
      "text/html": [
       "<div>\n",
       "<style scoped>\n",
       "    .dataframe tbody tr th:only-of-type {\n",
       "        vertical-align: middle;\n",
       "    }\n",
       "\n",
       "    .dataframe tbody tr th {\n",
       "        vertical-align: top;\n",
       "    }\n",
       "\n",
       "    .dataframe thead th {\n",
       "        text-align: right;\n",
       "    }\n",
       "</style>\n",
       "<table border=\"1\" class=\"dataframe\">\n",
       "  <thead>\n",
       "    <tr style=\"text-align: right;\">\n",
       "      <th></th>\n",
       "      <th>a2cloud_score</th>\n",
       "      <th>Cost(per hour USD)</th>\n",
       "      <th>Instance</th>\n",
       "      <th>cluster</th>\n",
       "    </tr>\n",
       "  </thead>\n",
       "  <tbody>\n",
       "    <tr>\n",
       "      <td>0</td>\n",
       "      <td>8.392074</td>\n",
       "      <td>0.1330</td>\n",
       "      <td>r4.large</td>\n",
       "      <td>1</td>\n",
       "    </tr>\n",
       "    <tr>\n",
       "      <td>1</td>\n",
       "      <td>1.000000</td>\n",
       "      <td>0.0752</td>\n",
       "      <td>t3a.large</td>\n",
       "      <td>4</td>\n",
       "    </tr>\n",
       "    <tr>\n",
       "      <td>2</td>\n",
       "      <td>9.855300</td>\n",
       "      <td>0.0150</td>\n",
       "      <td>Lin.G</td>\n",
       "      <td>1</td>\n",
       "    </tr>\n",
       "    <tr>\n",
       "      <td>3</td>\n",
       "      <td>9.461298</td>\n",
       "      <td>0.1184</td>\n",
       "      <td>N1M2</td>\n",
       "      <td>1</td>\n",
       "    </tr>\n",
       "    <tr>\n",
       "      <td>4</td>\n",
       "      <td>8.331257</td>\n",
       "      <td>0.0950</td>\n",
       "      <td>N1s2</td>\n",
       "      <td>1</td>\n",
       "    </tr>\n",
       "    <tr>\n",
       "      <td>5</td>\n",
       "      <td>4.807231</td>\n",
       "      <td>0.0928</td>\n",
       "      <td>t2.large</td>\n",
       "      <td>3</td>\n",
       "    </tr>\n",
       "    <tr>\n",
       "      <td>6</td>\n",
       "      <td>8.801770</td>\n",
       "      <td>0.0150</td>\n",
       "      <td>Lin.G</td>\n",
       "      <td>1</td>\n",
       "    </tr>\n",
       "    <tr>\n",
       "      <td>7</td>\n",
       "      <td>4.757761</td>\n",
       "      <td>0.0850</td>\n",
       "      <td>c5.large</td>\n",
       "      <td>3</td>\n",
       "    </tr>\n",
       "    <tr>\n",
       "      <td>8</td>\n",
       "      <td>5.567884</td>\n",
       "      <td>0.0464</td>\n",
       "      <td>t2.medium</td>\n",
       "      <td>2</td>\n",
       "    </tr>\n",
       "    <tr>\n",
       "      <td>9</td>\n",
       "      <td>9.204745</td>\n",
       "      <td>0.0900</td>\n",
       "      <td>Lin.M</td>\n",
       "      <td>1</td>\n",
       "    </tr>\n",
       "  </tbody>\n",
       "</table>\n",
       "</div>"
      ],
      "text/plain": [
       "   a2cloud_score  Cost(per hour USD)   Instance  cluster\n",
       "0       8.392074              0.1330   r4.large        1\n",
       "1       1.000000              0.0752  t3a.large        4\n",
       "2       9.855300              0.0150      Lin.G        1\n",
       "3       9.461298              0.1184       N1M2        1\n",
       "4       8.331257              0.0950       N1s2        1\n",
       "5       4.807231              0.0928   t2.large        3\n",
       "6       8.801770              0.0150      Lin.G        1\n",
       "7       4.757761              0.0850   c5.large        3\n",
       "8       5.567884              0.0464  t2.medium        2\n",
       "9       9.204745              0.0900      Lin.M        1"
      ]
     },
     "execution_count": 12,
     "metadata": {},
     "output_type": "execute_result"
    }
   ],
   "source": [
    "df_new.head(10)"
   ]
  },
  {
   "cell_type": "code",
   "execution_count": 13,
   "metadata": {},
   "outputs": [
    {
     "data": {
      "text/html": [
       "<div>\n",
       "<style scoped>\n",
       "    .dataframe tbody tr th:only-of-type {\n",
       "        vertical-align: middle;\n",
       "    }\n",
       "\n",
       "    .dataframe tbody tr th {\n",
       "        vertical-align: top;\n",
       "    }\n",
       "\n",
       "    .dataframe thead th {\n",
       "        text-align: right;\n",
       "    }\n",
       "</style>\n",
       "<table border=\"1\" class=\"dataframe\">\n",
       "  <thead>\n",
       "    <tr style=\"text-align: right;\">\n",
       "      <th></th>\n",
       "      <th>a2cloud_score</th>\n",
       "      <th>Cost(per hour USD)</th>\n",
       "      <th>Instance</th>\n",
       "      <th>cluster</th>\n",
       "    </tr>\n",
       "  </thead>\n",
       "  <tbody>\n",
       "    <tr>\n",
       "      <td>0</td>\n",
       "      <td>8.392074</td>\n",
       "      <td>0.1330</td>\n",
       "      <td>r4.large</td>\n",
       "      <td>1</td>\n",
       "    </tr>\n",
       "    <tr>\n",
       "      <td>1</td>\n",
       "      <td>1.000000</td>\n",
       "      <td>0.0752</td>\n",
       "      <td>t3a.large</td>\n",
       "      <td>4</td>\n",
       "    </tr>\n",
       "    <tr>\n",
       "      <td>2</td>\n",
       "      <td>9.855300</td>\n",
       "      <td>0.0150</td>\n",
       "      <td>Lin.G</td>\n",
       "      <td>1</td>\n",
       "    </tr>\n",
       "    <tr>\n",
       "      <td>3</td>\n",
       "      <td>9.461298</td>\n",
       "      <td>0.1184</td>\n",
       "      <td>N1M2</td>\n",
       "      <td>1</td>\n",
       "    </tr>\n",
       "    <tr>\n",
       "      <td>4</td>\n",
       "      <td>8.331257</td>\n",
       "      <td>0.0950</td>\n",
       "      <td>N1s2</td>\n",
       "      <td>1</td>\n",
       "    </tr>\n",
       "    <tr>\n",
       "      <td>...</td>\n",
       "      <td>...</td>\n",
       "      <td>...</td>\n",
       "      <td>...</td>\n",
       "      <td>...</td>\n",
       "    </tr>\n",
       "    <tr>\n",
       "      <td>1255</td>\n",
       "      <td>10.000000</td>\n",
       "      <td>0.0230</td>\n",
       "      <td>t2.small</td>\n",
       "      <td>1</td>\n",
       "    </tr>\n",
       "    <tr>\n",
       "      <td>1256</td>\n",
       "      <td>1.900873</td>\n",
       "      <td>0.0752</td>\n",
       "      <td>t3a.large</td>\n",
       "      <td>4</td>\n",
       "    </tr>\n",
       "    <tr>\n",
       "      <td>1257</td>\n",
       "      <td>1.937073</td>\n",
       "      <td>0.0376</td>\n",
       "      <td>t3a.medium</td>\n",
       "      <td>4</td>\n",
       "    </tr>\n",
       "    <tr>\n",
       "      <td>1258</td>\n",
       "      <td>1.986097</td>\n",
       "      <td>0.0188</td>\n",
       "      <td>t3a.small</td>\n",
       "      <td>4</td>\n",
       "    </tr>\n",
       "    <tr>\n",
       "      <td>1259</td>\n",
       "      <td>1.362533</td>\n",
       "      <td>0.0208</td>\n",
       "      <td>t3.small</td>\n",
       "      <td>4</td>\n",
       "    </tr>\n",
       "  </tbody>\n",
       "</table>\n",
       "<p>1260 rows × 4 columns</p>\n",
       "</div>"
      ],
      "text/plain": [
       "      a2cloud_score  Cost(per hour USD)    Instance  cluster\n",
       "0          8.392074              0.1330    r4.large        1\n",
       "1          1.000000              0.0752   t3a.large        4\n",
       "2          9.855300              0.0150       Lin.G        1\n",
       "3          9.461298              0.1184        N1M2        1\n",
       "4          8.331257              0.0950        N1s2        1\n",
       "...             ...                 ...         ...      ...\n",
       "1255      10.000000              0.0230    t2.small        1\n",
       "1256       1.900873              0.0752   t3a.large        4\n",
       "1257       1.937073              0.0376  t3a.medium        4\n",
       "1258       1.986097              0.0188   t3a.small        4\n",
       "1259       1.362533              0.0208    t3.small        4\n",
       "\n",
       "[1260 rows x 4 columns]"
      ]
     },
     "execution_count": 13,
     "metadata": {},
     "output_type": "execute_result"
    }
   ],
   "source": [
    "df_train=df_new\n",
    "df_train"
   ]
  },
  {
   "cell_type": "markdown",
   "metadata": {},
   "source": [
    "# Training "
   ]
  },
  {
   "cell_type": "code",
   "execution_count": 14,
   "metadata": {},
   "outputs": [],
   "source": [
    "xtrain=df_train[['a2cloud_score','Cost(per hour USD)']]\n",
    "xtrain=xtrain[0:960]\n",
    "ytrain=df_train['cluster'].values.tolist()\n",
    "ytrain=ytrain[0:960]"
   ]
  },
  {
   "cell_type": "code",
   "execution_count": 15,
   "metadata": {},
   "outputs": [
    {
     "data": {
      "text/plain": [
       "GaussianNB(priors=None, var_smoothing=1e-09)"
      ]
     },
     "execution_count": 15,
     "metadata": {},
     "output_type": "execute_result"
    }
   ],
   "source": [
    "classifier = GaussianNB()\n",
    "classifier.fit(xtrain, ytrain)"
   ]
  },
  {
   "cell_type": "markdown",
   "metadata": {},
   "source": [
    "# Testing "
   ]
  },
  {
   "cell_type": "code",
   "execution_count": 16,
   "metadata": {},
   "outputs": [],
   "source": [
    "xtest=df_train[['a2cloud_score','Cost(per hour USD)']]\n",
    "xtest=xtest[960:1200]\n",
    "b=df_train['cluster'].values.tolist()\n",
    "\n",
    "y_actual=b[960:1200]\n"
   ]
  },
  {
   "cell_type": "code",
   "execution_count": 17,
   "metadata": {},
   "outputs": [],
   "source": [
    "y_pred = classifier.predict(xtest)\n"
   ]
  },
  {
   "cell_type": "code",
   "execution_count": 18,
   "metadata": {},
   "outputs": [
    {
     "name": "stdout",
     "output_type": "stream",
     "text": [
      "Model Accuracy is 99.58333333333333 %\n"
     ]
    }
   ],
   "source": [
    "print('Model Accuracy is',100*accuracy_score(y_pred,y_actual),'%')\n"
   ]
  },
  {
   "cell_type": "code",
   "execution_count": 19,
   "metadata": {},
   "outputs": [
    {
     "name": "stdout",
     "output_type": "stream",
     "text": [
      "[[85  1  0  0]\n",
      " [ 0 79  0  0]\n",
      " [ 0  0 39  0]\n",
      " [ 0  0  0 36]]\n"
     ]
    }
   ],
   "source": [
    "print(confusion_matrix(y_pred, y_actual))\n"
   ]
  },
  {
   "cell_type": "code",
   "execution_count": 20,
   "metadata": {},
   "outputs": [
    {
     "name": "stdout",
     "output_type": "stream",
     "text": [
      "              precision    recall  f1-score   support\n",
      "\n",
      "           1       1.00      0.99      0.99        86\n",
      "           2       0.99      1.00      0.99        79\n",
      "           3       1.00      1.00      1.00        39\n",
      "           4       1.00      1.00      1.00        36\n",
      "\n",
      "    accuracy                           1.00       240\n",
      "   macro avg       1.00      1.00      1.00       240\n",
      "weighted avg       1.00      1.00      1.00       240\n",
      "\n"
     ]
    }
   ],
   "source": [
    "print(classification_report( y_pred,y_actual))"
   ]
  },
  {
   "cell_type": "markdown",
   "metadata": {},
   "source": [
    "# Confusion Matrix"
   ]
  },
  {
   "cell_type": "code",
   "execution_count": 21,
   "metadata": {},
   "outputs": [
    {
     "data": {
      "image/png": "[encoded data removed]",
      "text/plain": [
       "<Figure size 432x288 with 1 Axes>"
      ]
     },
     "metadata": {
      "needs_background": "light"
     },
     "output_type": "display_data"
    }
   ],
   "source": [
    "a_label = [\"Bad\",\"Good\",\"Average\",\"Excellent\"]\n",
    "p_label = [\"Bad\",\"Good\",\"Average\",\"Excellent\"]\n",
    "\n",
    "cm=confusion_matrix(y_pred, y_actual)\n",
    "\n",
    "fig, ax = plt.subplots()\n",
    "im = ax.imshow(cm)\n",
    "\n",
    "# We want to show all ticks...\n",
    "ax.set_xticks(np.arange(len(a_label)))\n",
    "ax.set_yticks(np.arange(len(p_label)))\n",
    "# ... and label them with the respective list entries\n",
    "ax.set_xticklabels(a_label)\n",
    "ax.set_yticklabels(a_label)\n",
    "ax.set_ylim(len(cm)-0.5, -0.5)\n",
    "\n",
    "# Rotate the tick labels and set their alignment.\n",
    "plt.setp(ax.get_xticklabels(), rotation=45, ha=\"right\",\n",
    "         rotation_mode=\"anchor\")\n",
    "\n",
    "# Loop over data dimensions and create text annotations.\n",
    "for i in range(len(a_label)):\n",
    "    for j in range(len(p_label)):\n",
    "        text = ax.text(j, i, cm[i, j],\n",
    "                       ha=\"center\", va=\"center\", color=\"w\")\n",
    "ax.set_xlabel(\"Predicted Label\")        \n",
    "ax.set_ylabel(\"True Label\")        \n",
    "\n",
    "fig.tight_layout()\n",
    "plt.show()"
   ]
  },
  {
   "cell_type": "markdown",
   "metadata": {},
   "source": [
    "# SCALA VERIFICATION"
   ]
  },
  {
   "cell_type": "code",
   "execution_count": 22,
   "metadata": {},
   "outputs": [
    {
     "data": {
      "text/html": [
       "<div>\n",
       "<style scoped>\n",
       "    .dataframe tbody tr th:only-of-type {\n",
       "        vertical-align: middle;\n",
       "    }\n",
       "\n",
       "    .dataframe tbody tr th {\n",
       "        vertical-align: top;\n",
       "    }\n",
       "\n",
       "    .dataframe thead th {\n",
       "        text-align: right;\n",
       "    }\n",
       "</style>\n",
       "<table border=\"1\" class=\"dataframe\">\n",
       "  <thead>\n",
       "    <tr style=\"text-align: right;\">\n",
       "      <th></th>\n",
       "      <th>a2cloud_score</th>\n",
       "      <th>Cost(per hour USD)</th>\n",
       "      <th>Instance</th>\n",
       "      <th>cluster</th>\n",
       "    </tr>\n",
       "  </thead>\n",
       "  <tbody>\n",
       "    <tr>\n",
       "      <td>1200</td>\n",
       "      <td>1.779287</td>\n",
       "      <td>0.0928</td>\n",
       "      <td>t2.large</td>\n",
       "      <td>4</td>\n",
       "    </tr>\n",
       "    <tr>\n",
       "      <td>1201</td>\n",
       "      <td>9.038401</td>\n",
       "      <td>0.0832</td>\n",
       "      <td>B2ms</td>\n",
       "      <td>1</td>\n",
       "    </tr>\n",
       "    <tr>\n",
       "      <td>1202</td>\n",
       "      <td>5.508525</td>\n",
       "      <td>0.0950</td>\n",
       "      <td>N1s2</td>\n",
       "      <td>3</td>\n",
       "    </tr>\n",
       "    <tr>\n",
       "      <td>1203</td>\n",
       "      <td>1.845338</td>\n",
       "      <td>0.0150</td>\n",
       "      <td>Lin.G</td>\n",
       "      <td>4</td>\n",
       "    </tr>\n",
       "    <tr>\n",
       "      <td>1204</td>\n",
       "      <td>1.565042</td>\n",
       "      <td>0.1000</td>\n",
       "      <td>c4.large</td>\n",
       "      <td>4</td>\n",
       "    </tr>\n",
       "    <tr>\n",
       "      <td>1205</td>\n",
       "      <td>1.690335</td>\n",
       "      <td>0.0850</td>\n",
       "      <td>F2s</td>\n",
       "      <td>4</td>\n",
       "    </tr>\n",
       "    <tr>\n",
       "      <td>1206</td>\n",
       "      <td>1.656208</td>\n",
       "      <td>0.0709</td>\n",
       "      <td>N1cc</td>\n",
       "      <td>4</td>\n",
       "    </tr>\n",
       "    <tr>\n",
       "      <td>1207</td>\n",
       "      <td>2.075739</td>\n",
       "      <td>0.0450</td>\n",
       "      <td>Lin.C</td>\n",
       "      <td>4</td>\n",
       "    </tr>\n",
       "    <tr>\n",
       "      <td>1208</td>\n",
       "      <td>1.729807</td>\n",
       "      <td>0.1330</td>\n",
       "      <td>r4.large</td>\n",
       "      <td>4</td>\n",
       "    </tr>\n",
       "    <tr>\n",
       "      <td>1209</td>\n",
       "      <td>3.504518</td>\n",
       "      <td>0.1260</td>\n",
       "      <td>E2s</td>\n",
       "      <td>3</td>\n",
       "    </tr>\n",
       "    <tr>\n",
       "      <td>1210</td>\n",
       "      <td>1.033747</td>\n",
       "      <td>0.1184</td>\n",
       "      <td>N1M2</td>\n",
       "      <td>4</td>\n",
       "    </tr>\n",
       "    <tr>\n",
       "      <td>1211</td>\n",
       "      <td>2.332437</td>\n",
       "      <td>0.0900</td>\n",
       "      <td>Lin.M</td>\n",
       "      <td>4</td>\n",
       "    </tr>\n",
       "    <tr>\n",
       "      <td>1212</td>\n",
       "      <td>1.000000</td>\n",
       "      <td>0.0850</td>\n",
       "      <td>c5.large</td>\n",
       "      <td>4</td>\n",
       "    </tr>\n",
       "    <tr>\n",
       "      <td>1213</td>\n",
       "      <td>1.560080</td>\n",
       "      <td>0.1000</td>\n",
       "      <td>m4.large</td>\n",
       "      <td>4</td>\n",
       "    </tr>\n",
       "    <tr>\n",
       "      <td>1214</td>\n",
       "      <td>2.685426</td>\n",
       "      <td>0.0464</td>\n",
       "      <td>t2.medium</td>\n",
       "      <td>4</td>\n",
       "    </tr>\n",
       "    <tr>\n",
       "      <td>1215</td>\n",
       "      <td>10.000000</td>\n",
       "      <td>0.0230</td>\n",
       "      <td>t2.small</td>\n",
       "      <td>1</td>\n",
       "    </tr>\n",
       "    <tr>\n",
       "      <td>1216</td>\n",
       "      <td>1.836081</td>\n",
       "      <td>0.0752</td>\n",
       "      <td>t3a.large</td>\n",
       "      <td>4</td>\n",
       "    </tr>\n",
       "    <tr>\n",
       "      <td>1217</td>\n",
       "      <td>1.902415</td>\n",
       "      <td>0.0376</td>\n",
       "      <td>t3a.medium</td>\n",
       "      <td>4</td>\n",
       "    </tr>\n",
       "    <tr>\n",
       "      <td>1218</td>\n",
       "      <td>1.964006</td>\n",
       "      <td>0.0188</td>\n",
       "      <td>t3a.small</td>\n",
       "      <td>4</td>\n",
       "    </tr>\n",
       "    <tr>\n",
       "      <td>1219</td>\n",
       "      <td>1.183193</td>\n",
       "      <td>0.0208</td>\n",
       "      <td>t3.small</td>\n",
       "      <td>4</td>\n",
       "    </tr>\n",
       "    <tr>\n",
       "      <td>1220</td>\n",
       "      <td>3.076447</td>\n",
       "      <td>0.0928</td>\n",
       "      <td>t2.large</td>\n",
       "      <td>4</td>\n",
       "    </tr>\n",
       "    <tr>\n",
       "      <td>1221</td>\n",
       "      <td>9.664891</td>\n",
       "      <td>0.0832</td>\n",
       "      <td>B2ms</td>\n",
       "      <td>1</td>\n",
       "    </tr>\n",
       "    <tr>\n",
       "      <td>1222</td>\n",
       "      <td>6.497144</td>\n",
       "      <td>0.0950</td>\n",
       "      <td>N1s2</td>\n",
       "      <td>2</td>\n",
       "    </tr>\n",
       "    <tr>\n",
       "      <td>1223</td>\n",
       "      <td>3.247461</td>\n",
       "      <td>0.0150</td>\n",
       "      <td>Lin.G</td>\n",
       "      <td>4</td>\n",
       "    </tr>\n",
       "    <tr>\n",
       "      <td>1224</td>\n",
       "      <td>1.000000</td>\n",
       "      <td>0.1000</td>\n",
       "      <td>c4.large</td>\n",
       "      <td>4</td>\n",
       "    </tr>\n",
       "    <tr>\n",
       "      <td>1225</td>\n",
       "      <td>3.103549</td>\n",
       "      <td>0.0850</td>\n",
       "      <td>F2s</td>\n",
       "      <td>4</td>\n",
       "    </tr>\n",
       "    <tr>\n",
       "      <td>1226</td>\n",
       "      <td>3.133766</td>\n",
       "      <td>0.0709</td>\n",
       "      <td>N1cc</td>\n",
       "      <td>4</td>\n",
       "    </tr>\n",
       "    <tr>\n",
       "      <td>1227</td>\n",
       "      <td>3.471247</td>\n",
       "      <td>0.0450</td>\n",
       "      <td>Lin.C</td>\n",
       "      <td>3</td>\n",
       "    </tr>\n",
       "    <tr>\n",
       "      <td>1228</td>\n",
       "      <td>3.181795</td>\n",
       "      <td>0.1330</td>\n",
       "      <td>r4.large</td>\n",
       "      <td>4</td>\n",
       "    </tr>\n",
       "    <tr>\n",
       "      <td>1229</td>\n",
       "      <td>4.325151</td>\n",
       "      <td>0.1260</td>\n",
       "      <td>E2s</td>\n",
       "      <td>3</td>\n",
       "    </tr>\n",
       "    <tr>\n",
       "      <td>1230</td>\n",
       "      <td>2.659698</td>\n",
       "      <td>0.1184</td>\n",
       "      <td>N1M2</td>\n",
       "      <td>4</td>\n",
       "    </tr>\n",
       "    <tr>\n",
       "      <td>1231</td>\n",
       "      <td>3.649722</td>\n",
       "      <td>0.0900</td>\n",
       "      <td>Lin.M</td>\n",
       "      <td>3</td>\n",
       "    </tr>\n",
       "    <tr>\n",
       "      <td>1232</td>\n",
       "      <td>2.341293</td>\n",
       "      <td>0.0850</td>\n",
       "      <td>c5.large</td>\n",
       "      <td>4</td>\n",
       "    </tr>\n",
       "    <tr>\n",
       "      <td>1233</td>\n",
       "      <td>3.573167</td>\n",
       "      <td>0.1000</td>\n",
       "      <td>m4.large</td>\n",
       "      <td>3</td>\n",
       "    </tr>\n",
       "    <tr>\n",
       "      <td>1234</td>\n",
       "      <td>3.214890</td>\n",
       "      <td>0.0464</td>\n",
       "      <td>t2.medium</td>\n",
       "      <td>4</td>\n",
       "    </tr>\n",
       "    <tr>\n",
       "      <td>1235</td>\n",
       "      <td>10.000000</td>\n",
       "      <td>0.0230</td>\n",
       "      <td>t2.small</td>\n",
       "      <td>1</td>\n",
       "    </tr>\n",
       "    <tr>\n",
       "      <td>1236</td>\n",
       "      <td>3.179371</td>\n",
       "      <td>0.0752</td>\n",
       "      <td>t3a.large</td>\n",
       "      <td>4</td>\n",
       "    </tr>\n",
       "    <tr>\n",
       "      <td>1237</td>\n",
       "      <td>3.277306</td>\n",
       "      <td>0.0376</td>\n",
       "      <td>t3a.medium</td>\n",
       "      <td>4</td>\n",
       "    </tr>\n",
       "    <tr>\n",
       "      <td>1238</td>\n",
       "      <td>3.346108</td>\n",
       "      <td>0.0188</td>\n",
       "      <td>t3a.small</td>\n",
       "      <td>3</td>\n",
       "    </tr>\n",
       "    <tr>\n",
       "      <td>1239</td>\n",
       "      <td>2.476856</td>\n",
       "      <td>0.0208</td>\n",
       "      <td>t3.small</td>\n",
       "      <td>4</td>\n",
       "    </tr>\n",
       "    <tr>\n",
       "      <td>1240</td>\n",
       "      <td>1.883160</td>\n",
       "      <td>0.0928</td>\n",
       "      <td>t2.large</td>\n",
       "      <td>4</td>\n",
       "    </tr>\n",
       "    <tr>\n",
       "      <td>1241</td>\n",
       "      <td>8.719943</td>\n",
       "      <td>0.0832</td>\n",
       "      <td>B2ms</td>\n",
       "      <td>1</td>\n",
       "    </tr>\n",
       "    <tr>\n",
       "      <td>1242</td>\n",
       "      <td>5.370360</td>\n",
       "      <td>0.0950</td>\n",
       "      <td>N1s2</td>\n",
       "      <td>3</td>\n",
       "    </tr>\n",
       "    <tr>\n",
       "      <td>1243</td>\n",
       "      <td>1.868026</td>\n",
       "      <td>0.0150</td>\n",
       "      <td>Lin.G</td>\n",
       "      <td>4</td>\n",
       "    </tr>\n",
       "    <tr>\n",
       "      <td>1244</td>\n",
       "      <td>1.584332</td>\n",
       "      <td>0.1000</td>\n",
       "      <td>c4.large</td>\n",
       "      <td>4</td>\n",
       "    </tr>\n",
       "    <tr>\n",
       "      <td>1245</td>\n",
       "      <td>1.724290</td>\n",
       "      <td>0.0850</td>\n",
       "      <td>F2s</td>\n",
       "      <td>4</td>\n",
       "    </tr>\n",
       "    <tr>\n",
       "      <td>1246</td>\n",
       "      <td>1.649536</td>\n",
       "      <td>0.0709</td>\n",
       "      <td>N1cc</td>\n",
       "      <td>4</td>\n",
       "    </tr>\n",
       "    <tr>\n",
       "      <td>1247</td>\n",
       "      <td>2.074805</td>\n",
       "      <td>0.0450</td>\n",
       "      <td>Lin.C</td>\n",
       "      <td>4</td>\n",
       "    </tr>\n",
       "    <tr>\n",
       "      <td>1248</td>\n",
       "      <td>1.731924</td>\n",
       "      <td>0.1330</td>\n",
       "      <td>r4.large</td>\n",
       "      <td>4</td>\n",
       "    </tr>\n",
       "    <tr>\n",
       "      <td>1249</td>\n",
       "      <td>3.728861</td>\n",
       "      <td>0.1260</td>\n",
       "      <td>E2s</td>\n",
       "      <td>3</td>\n",
       "    </tr>\n",
       "    <tr>\n",
       "      <td>1250</td>\n",
       "      <td>1.000000</td>\n",
       "      <td>0.1184</td>\n",
       "      <td>N1M2</td>\n",
       "      <td>4</td>\n",
       "    </tr>\n",
       "    <tr>\n",
       "      <td>1251</td>\n",
       "      <td>2.354525</td>\n",
       "      <td>0.0900</td>\n",
       "      <td>Lin.M</td>\n",
       "      <td>4</td>\n",
       "    </tr>\n",
       "    <tr>\n",
       "      <td>1252</td>\n",
       "      <td>1.168617</td>\n",
       "      <td>0.0850</td>\n",
       "      <td>c5.large</td>\n",
       "      <td>4</td>\n",
       "    </tr>\n",
       "    <tr>\n",
       "      <td>1253</td>\n",
       "      <td>1.192258</td>\n",
       "      <td>0.1000</td>\n",
       "      <td>m4.large</td>\n",
       "      <td>4</td>\n",
       "    </tr>\n",
       "    <tr>\n",
       "      <td>1254</td>\n",
       "      <td>3.212885</td>\n",
       "      <td>0.0464</td>\n",
       "      <td>t2.medium</td>\n",
       "      <td>4</td>\n",
       "    </tr>\n",
       "    <tr>\n",
       "      <td>1255</td>\n",
       "      <td>10.000000</td>\n",
       "      <td>0.0230</td>\n",
       "      <td>t2.small</td>\n",
       "      <td>1</td>\n",
       "    </tr>\n",
       "    <tr>\n",
       "      <td>1256</td>\n",
       "      <td>1.900873</td>\n",
       "      <td>0.0752</td>\n",
       "      <td>t3a.large</td>\n",
       "      <td>4</td>\n",
       "    </tr>\n",
       "    <tr>\n",
       "      <td>1257</td>\n",
       "      <td>1.937073</td>\n",
       "      <td>0.0376</td>\n",
       "      <td>t3a.medium</td>\n",
       "      <td>4</td>\n",
       "    </tr>\n",
       "    <tr>\n",
       "      <td>1258</td>\n",
       "      <td>1.986097</td>\n",
       "      <td>0.0188</td>\n",
       "      <td>t3a.small</td>\n",
       "      <td>4</td>\n",
       "    </tr>\n",
       "    <tr>\n",
       "      <td>1259</td>\n",
       "      <td>1.362533</td>\n",
       "      <td>0.0208</td>\n",
       "      <td>t3.small</td>\n",
       "      <td>4</td>\n",
       "    </tr>\n",
       "  </tbody>\n",
       "</table>\n",
       "</div>"
      ],
      "text/plain": [
       "      a2cloud_score  Cost(per hour USD)    Instance  cluster\n",
       "1200       1.779287              0.0928    t2.large        4\n",
       "1201       9.038401              0.0832        B2ms        1\n",
       "1202       5.508525              0.0950        N1s2        3\n",
       "1203       1.845338              0.0150       Lin.G        4\n",
       "1204       1.565042              0.1000    c4.large        4\n",
       "1205       1.690335              0.0850         F2s        4\n",
       "1206       1.656208              0.0709        N1cc        4\n",
       "1207       2.075739              0.0450       Lin.C        4\n",
       "1208       1.729807              0.1330    r4.large        4\n",
       "1209       3.504518              0.1260         E2s        3\n",
       "1210       1.033747              0.1184        N1M2        4\n",
       "1211       2.332437              0.0900       Lin.M        4\n",
       "1212       1.000000              0.0850    c5.large        4\n",
       "1213       1.560080              0.1000    m4.large        4\n",
       "1214       2.685426              0.0464   t2.medium        4\n",
       "1215      10.000000              0.0230    t2.small        1\n",
       "1216       1.836081              0.0752   t3a.large        4\n",
       "1217       1.902415              0.0376  t3a.medium        4\n",
       "1218       1.964006              0.0188   t3a.small        4\n",
       "1219       1.183193              0.0208    t3.small        4\n",
       "1220       3.076447              0.0928    t2.large        4\n",
       "1221       9.664891              0.0832        B2ms        1\n",
       "1222       6.497144              0.0950        N1s2        2\n",
       "1223       3.247461              0.0150       Lin.G        4\n",
       "1224       1.000000              0.1000    c4.large        4\n",
       "1225       3.103549              0.0850         F2s        4\n",
       "1226       3.133766              0.0709        N1cc        4\n",
       "1227       3.471247              0.0450       Lin.C        3\n",
       "1228       3.181795              0.1330    r4.large        4\n",
       "1229       4.325151              0.1260         E2s        3\n",
       "1230       2.659698              0.1184        N1M2        4\n",
       "1231       3.649722              0.0900       Lin.M        3\n",
       "1232       2.341293              0.0850    c5.large        4\n",
       "1233       3.573167              0.1000    m4.large        3\n",
       "1234       3.214890              0.0464   t2.medium        4\n",
       "1235      10.000000              0.0230    t2.small        1\n",
       "1236       3.179371              0.0752   t3a.large        4\n",
       "1237       3.277306              0.0376  t3a.medium        4\n",
       "1238       3.346108              0.0188   t3a.small        3\n",
       "1239       2.476856              0.0208    t3.small        4\n",
       "1240       1.883160              0.0928    t2.large        4\n",
       "1241       8.719943              0.0832        B2ms        1\n",
       "1242       5.370360              0.0950        N1s2        3\n",
       "1243       1.868026              0.0150       Lin.G        4\n",
       "1244       1.584332              0.1000    c4.large        4\n",
       "1245       1.724290              0.0850         F2s        4\n",
       "1246       1.649536              0.0709        N1cc        4\n",
       "1247       2.074805              0.0450       Lin.C        4\n",
       "1248       1.731924              0.1330    r4.large        4\n",
       "1249       3.728861              0.1260         E2s        3\n",
       "1250       1.000000              0.1184        N1M2        4\n",
       "1251       2.354525              0.0900       Lin.M        4\n",
       "1252       1.168617              0.0850    c5.large        4\n",
       "1253       1.192258              0.1000    m4.large        4\n",
       "1254       3.212885              0.0464   t2.medium        4\n",
       "1255      10.000000              0.0230    t2.small        1\n",
       "1256       1.900873              0.0752   t3a.large        4\n",
       "1257       1.937073              0.0376  t3a.medium        4\n",
       "1258       1.986097              0.0188   t3a.small        4\n",
       "1259       1.362533              0.0208    t3.small        4"
      ]
     },
     "execution_count": 22,
     "metadata": {},
     "output_type": "execute_result"
    }
   ],
   "source": [
    "x_scala=df_scala[['a2cloud_score','Cost(per hour USD)']]\n",
    "df_train[1200:1260]"
   ]
  },
  {
   "cell_type": "code",
   "execution_count": 23,
   "metadata": {},
   "outputs": [],
   "source": [
    "y_pred = classifier.predict(x_scala)\n"
   ]
  },
  {
   "cell_type": "code",
   "execution_count": 24,
   "metadata": {},
   "outputs": [
    {
     "data": {
      "text/plain": [
       "array([4, 1, 2, 4, 4, 4, 4, 4, 4, 3, 4, 4, 4, 4, 4, 1, 4, 4, 4, 4, 4, 1,\n",
       "       2, 4, 4, 4, 4, 4, 4, 3, 4, 3, 4, 3, 4, 1, 4, 4, 4, 4, 4, 1, 3, 4,\n",
       "       4, 4, 4, 4, 4, 3, 4, 4, 4, 4, 4, 1, 4, 4, 4, 4])"
      ]
     },
     "execution_count": 24,
     "metadata": {},
     "output_type": "execute_result"
    }
   ],
   "source": [
    "y_actual=b[1200:1260]\n",
    "y_pred"
   ]
  },
  {
   "cell_type": "code",
   "execution_count": 25,
   "metadata": {},
   "outputs": [
    {
     "name": "stdout",
     "output_type": "stream",
     "text": [
      "Model Accuracy is 95.0 %\n"
     ]
    }
   ],
   "source": [
    "print('Model Accuracy is',100*accuracy_score(y_pred,y_actual),'%')\n"
   ]
  },
  {
   "cell_type": "code",
   "execution_count": 26,
   "metadata": {},
   "outputs": [
    {
     "data": {
      "image/png": "[encoded data removed]",
      "text/plain": [
       "<Figure size 432x288 with 1 Axes>"
      ]
     },
     "metadata": {
      "needs_background": "light"
     },
     "output_type": "display_data"
    }
   ],
   "source": [
    "a_label = [\"Bad\",\"Good\",\"Average\",\"Excellent\"]\n",
    "p_label = [\"Bad\",\"Good\",\"Average\",\"Excellent\"]\n",
    "\n",
    "#harvest = np.array([[4,0,0],[0,0,0], [0,7,1]])\n",
    "cm=confusion_matrix(y_pred, y_actual)\n",
    "\n",
    "fig, ax = plt.subplots()\n",
    "im = ax.imshow(cm)\n",
    "\n",
    "# We want to show all ticks...\n",
    "ax.set_xticks(np.arange(len(a_label)))\n",
    "ax.set_yticks(np.arange(len(p_label)))\n",
    "# ... and label them with the respective list entries\n",
    "ax.set_xticklabels(a_label)\n",
    "ax.set_yticklabels(a_label)\n",
    "ax.set_ylim(len(cm)-0.5, -0.5)\n",
    "\n",
    "# Rotate the tick labels and set their alignment.\n",
    "plt.setp(ax.get_xticklabels(), rotation=45, ha=\"right\",\n",
    "         rotation_mode=\"anchor\")\n",
    "\n",
    "# Loop over data dimensions and create text annotations.\n",
    "for i in range(len(a_label)):\n",
    "    for j in range(len(p_label)):\n",
    "        text = ax.text(j, i, cm[i, j],\n",
    "                       ha=\"center\", va=\"center\", color=\"w\")\n",
    "ax.set_xlabel(\"Predicted Label\")        \n",
    "ax.set_ylabel(\"True Label\")        \n",
    "\n",
    "#ax.set_title(\"Harvest of local farmers (in tons/year)\")\n",
    "fig.tight_layout()\n",
    "plt.show()"
   ]
  },
  {
   "cell_type": "code",
   "execution_count": 27,
   "metadata": {},
   "outputs": [
    {
     "name": "stdout",
     "output_type": "stream",
     "text": [
      "              precision    recall  f1-score   support\n",
      "\n",
      "           1       1.00      1.00      1.00         6\n",
      "           2       1.00      0.50      0.67         2\n",
      "           3       0.67      1.00      0.80         6\n",
      "           4       1.00      0.96      0.98        46\n",
      "\n",
      "    accuracy                           0.95        60\n",
      "   macro avg       0.92      0.86      0.86        60\n",
      "weighted avg       0.97      0.95      0.95        60\n",
      "\n"
     ]
    }
   ],
   "source": [
    "print(classification_report( y_pred,y_actual))"
   ]
  },
  {
   "cell_type": "code",
   "execution_count": 28,
   "metadata": {},
   "outputs": [
    {
     "name": "stdout",
     "output_type": "stream",
     "text": [
      "[[ 6  0  0  0]\n",
      " [ 0  1  1  0]\n",
      " [ 0  0  6  0]\n",
      " [ 0  0  2 44]]\n"
     ]
    }
   ],
   "source": [
    "print(confusion_matrix(y_pred, y_actual))\n"
   ]
  },
  {
   "cell_type": "markdown",
   "metadata": {},
   "source": [
    "# Get Instance Suggestion for New application: Input=[A2Cloud_score, cost_per_hour]"
   ]
  },
  {
   "cell_type": "code",
   "execution_count": 30,
   "metadata": {},
   "outputs": [
    {
     "name": "stdout",
     "output_type": "stream",
     "text": [
      " A2Cloud Score (1 to 10): 2.02\n",
      "Cost of instance (per hour): 0.10\n"
     ]
    }
   ],
   "source": [
    "# Input from user http://localhost:8888/notebooks/Desktop/Cloud_Instance_recommender/Stand-alone%20Model%20/NB_3application_class/Balanced/stand_alone_balanced_NB.ipynb#Get-Instance-Suggestion-for-New-application:-Input=[A2Cloud_score,-cost_per_hour]\n",
    "\n",
    "A2Cloud_score = float(input(' A2Cloud Score (1 to 10): '))\n",
    "cost = float(input('Cost of instance (per hour): '))\n",
    "\n",
    "# prediction function implementation\n",
    "def Prediction(A2Cloud_score,cost):\n",
    "    y_pred = classifier.predict((np.array([A2Cloud_score,cost])).reshape(1, -1))[0]\n",
    "    return y_pred\n",
    "    \n",
    "# prediction function call \n",
    "guess_cluster=Prediction(A2Cloud_score,cost) \n",
    "\n",
    "#slice dataset based on the predicited cluster \n",
    "training=df_train[0:960]\n",
    "training=training[training['cluster']==guess_cluster]"
   ]
  },
  {
   "cell_type": "markdown",
   "metadata": {},
   "source": [
    "### Mulitple Instance Recommendation"
   ]
  },
  {
   "cell_type": "code",
   "execution_count": 31,
   "metadata": {},
   "outputs": [
    {
     "name": "stdout",
     "output_type": "stream",
     "text": [
      "The Recommended Instances are:  ['t3a.large' 't3a.medium' 't3a.small' 'c5.large']\n"
     ]
    }
   ],
   "source": [
    "# calculate unique instances name in the predicted cluster \n",
    "instance=training['Instance'].unique()\n",
    "print(\"The Recommended Instances are: \",instance)"
   ]
  },
  {
   "cell_type": "markdown",
   "metadata": {},
   "source": [
    "### Single Instance Recommendation "
   ]
  },
  {
   "cell_type": "code",
   "execution_count": 32,
   "metadata": {},
   "outputs": [
    {
     "name": "stdout",
     "output_type": "stream",
     "text": [
      "Instance recommendation for your App:  t3a.large\n"
     ]
    }
   ],
   "source": [
    "instance_single=training.sort_values(by=['a2cloud_score', 'Cost(per hour USD)'])\n",
    "instance_single=instance_single.iloc[0:1,:]\n",
    "#z.iloc[0,0:1][0],(z.iloc[0,1:2])[0],(z.iloc[0,2:3])[0]\n",
    "print(\"Instance recommendation for your App: \",instance_single.iloc[0,2:3][0] )"
   ]
  }
 ],
 "metadata": {
  "kernelspec": {
   "display_name": "Python 3",
   "language": "python",
   "name": "python3"
  },
  "language_info": {
   "codemirror_mode": {
    "name": "ipython",
    "version": 3
   },
   "file_extension": ".py",
   "mimetype": "text/x-python",
   "name": "python",
   "nbconvert_exporter": "python",
   "pygments_lexer": "ipython3",
   "version": "3.7.4"
  }
 },
 "nbformat": 4,
 "nbformat_minor": 2
}
