{
 "cells": [
  {
   "cell_type": "code",
   "execution_count": 1,
   "metadata": {},
   "outputs": [],
   "source": [
    "import pandas as pd\n",
    "import matplotlib.pyplot as plt\n",
    "import math\n",
    "from sklearn.cluster import KMeans\n",
    "from sklearn import preprocessing\n",
    "import numpy as np\n",
    "import math\n",
    "from statistics import mean \n",
    "import statistics\n",
    "from sklearn.naive_bayes import GaussianNB\n",
    "from sklearn.metrics import confusion_matrix\n",
    "from sklearn.metrics import accuracy_score\n",
    "from sklearn.metrics import classification_report,confusion_matrix\n",
    "from sklearn import metrics\n",
    "from sklearn.metrics import mean_absolute_error\n",
    "from sklearn.metrics import classification_report,confusion_matrix\n",
    "\n",
    "%matplotlib inline"
   ]
  },
  {
   "cell_type": "code",
   "execution_count": 2,
   "metadata": {},
   "outputs": [
    {
     "data": {
      "text/html": [
       "<div>\n",
       "<style scoped>\n",
       "    .dataframe tbody tr th:only-of-type {\n",
       "        vertical-align: middle;\n",
       "    }\n",
       "\n",
       "    .dataframe tbody tr th {\n",
       "        vertical-align: top;\n",
       "    }\n",
       "\n",
       "    .dataframe thead th {\n",
       "        text-align: right;\n",
       "    }\n",
       "</style>\n",
       "<table border=\"1\" class=\"dataframe\">\n",
       "  <thead>\n",
       "    <tr style=\"text-align: right;\">\n",
       "      <th></th>\n",
       "      <th>Rating</th>\n",
       "      <th>Cost(per hour USD)</th>\n",
       "      <th>Cloud Instances</th>\n",
       "    </tr>\n",
       "  </thead>\n",
       "  <tbody>\n",
       "    <tr>\n",
       "      <td>0</td>\n",
       "      <td>4.000000</td>\n",
       "      <td>0.0928</td>\n",
       "      <td>t2.large</td>\n",
       "    </tr>\n",
       "    <tr>\n",
       "      <td>1</td>\n",
       "      <td>2.000000</td>\n",
       "      <td>0.0832</td>\n",
       "      <td>B2ms</td>\n",
       "    </tr>\n",
       "    <tr>\n",
       "      <td>2</td>\n",
       "      <td>3.666667</td>\n",
       "      <td>0.0950</td>\n",
       "      <td>N1s2</td>\n",
       "    </tr>\n",
       "    <tr>\n",
       "      <td>3</td>\n",
       "      <td>3.333333</td>\n",
       "      <td>0.0150</td>\n",
       "      <td>Lin.G</td>\n",
       "    </tr>\n",
       "    <tr>\n",
       "      <td>4</td>\n",
       "      <td>2.666667</td>\n",
       "      <td>0.1000</td>\n",
       "      <td>c4.large</td>\n",
       "    </tr>\n",
       "    <tr>\n",
       "      <td>...</td>\n",
       "      <td>...</td>\n",
       "      <td>...</td>\n",
       "      <td>...</td>\n",
       "    </tr>\n",
       "    <tr>\n",
       "      <td>175</td>\n",
       "      <td>3.000000</td>\n",
       "      <td>0.0230</td>\n",
       "      <td>t2.small</td>\n",
       "    </tr>\n",
       "    <tr>\n",
       "      <td>176</td>\n",
       "      <td>4.000000</td>\n",
       "      <td>0.0752</td>\n",
       "      <td>t3a.large</td>\n",
       "    </tr>\n",
       "    <tr>\n",
       "      <td>177</td>\n",
       "      <td>3.000000</td>\n",
       "      <td>0.0376</td>\n",
       "      <td>t3a.medium</td>\n",
       "    </tr>\n",
       "    <tr>\n",
       "      <td>178</td>\n",
       "      <td>1.333333</td>\n",
       "      <td>0.0188</td>\n",
       "      <td>t3a.small</td>\n",
       "    </tr>\n",
       "    <tr>\n",
       "      <td>179</td>\n",
       "      <td>4.000000</td>\n",
       "      <td>0.0208</td>\n",
       "      <td>t3.small</td>\n",
       "    </tr>\n",
       "  </tbody>\n",
       "</table>\n",
       "<p>180 rows × 3 columns</p>\n",
       "</div>"
      ],
      "text/plain": [
       "       Rating  Cost(per hour USD) Cloud Instances\n",
       "0    4.000000              0.0928        t2.large\n",
       "1    2.000000              0.0832            B2ms\n",
       "2    3.666667              0.0950            N1s2\n",
       "3    3.333333              0.0150           Lin.G\n",
       "4    2.666667              0.1000        c4.large\n",
       "..        ...                 ...             ...\n",
       "175  3.000000              0.0230        t2.small\n",
       "176  4.000000              0.0752       t3a.large\n",
       "177  3.000000              0.0376      t3a.medium\n",
       "178  1.333333              0.0188       t3a.small\n",
       "179  4.000000              0.0208        t3.small\n",
       "\n",
       "[180 rows x 3 columns]"
      ]
     },
     "execution_count": 2,
     "metadata": {},
     "output_type": "execute_result"
    }
   ],
   "source": [
    "# dataset \n",
    "df = pd.read_csv(\"dataset_compute.csv\")\n",
    "# Lulesh verification dataset \n",
    "df_veri = pd.read_csv(\"dataset_compute_LULESH_runtime.csv\")\n",
    "\n",
    "df\n"
   ]
  },
  {
   "cell_type": "code",
   "execution_count": 3,
   "metadata": {},
   "outputs": [],
   "source": [
    "from sklearn.utils import shuffle\n",
    "df = shuffle(df)\n",
    "\n",
    "df=df.append(df_veri)"
   ]
  },
  {
   "cell_type": "code",
   "execution_count": 4,
   "metadata": {},
   "outputs": [
    {
     "data": {
      "image/png": "[encoded data removed]",
      "text/plain": [
       "<Figure size 720x720 with 1 Axes>"
      ]
     },
     "metadata": {
      "needs_background": "light"
     },
     "output_type": "display_data"
    }
   ],
   "source": [
    "fig = plt.figure(figsize=(10, 10))\n",
    "\n",
    "plt.scatter(df.iloc[:,1:2],df.iloc[:,0:1],  marker='o')\n",
    "plt.xlabel('Cost [$ per hour]')\n",
    "plt.ylabel('A2Cloud Rating')\n",
    "plt.show()"
   ]
  },
  {
   "cell_type": "code",
   "execution_count": 5,
   "metadata": {},
   "outputs": [
    {
     "data": {
      "text/plain": [
       "array([2, 1, 0, 1, 0, 1, 1, 1, 1, 1, 1, 1, 0, 1, 0, 2, 1, 0, 1, 2, 1, 1,\n",
       "       0, 1, 1, 1, 1, 2, 1, 1, 1, 3, 1, 2, 1, 0, 1, 1, 1, 0, 2, 2, 0, 0,\n",
       "       3, 1, 1, 0, 0, 0, 0, 0, 1, 0, 1, 1, 1, 1, 1, 3, 0, 2, 2, 0, 0, 1,\n",
       "       1, 1, 2, 1, 1, 1, 1, 2, 0, 1, 1, 1, 1, 2, 1, 1, 0, 1, 2, 2, 2, 1,\n",
       "       1, 2, 1, 1, 3, 1, 1, 1, 1, 1, 3, 0, 1, 2, 0, 3, 3, 1, 3, 2, 1, 1,\n",
       "       1, 2, 2, 1, 1, 1, 2, 1, 1, 0, 1, 0, 1, 0, 0, 1, 0, 1, 1, 1, 2, 1,\n",
       "       3, 2, 1, 1, 3, 0, 2, 2, 0, 1, 0, 2, 1, 2, 1, 2, 0, 1, 0, 1, 1, 1,\n",
       "       1, 0, 1, 2, 1, 1, 0, 1, 1, 1, 1, 1, 1, 0, 1, 1, 3, 0, 0, 1, 1, 0,\n",
       "       3, 1, 1, 1, 1, 2, 1, 2, 1, 1, 1, 2, 1, 1, 1, 2, 0, 1, 0, 1, 0, 0,\n",
       "       0, 1], dtype=int32)"
      ]
     },
     "execution_count": 5,
     "metadata": {},
     "output_type": "execute_result"
    }
   ],
   "source": [
    "X=df.iloc[:,0:2]\n",
    "model = KMeans(n_clusters = 4)\n",
    "kmeans=model.fit(X)\n",
    "labels = kmeans.labels_ # creating classification columns for supervised learning \n",
    "labels"
   ]
  },
  {
   "cell_type": "code",
   "execution_count": 6,
   "metadata": {},
   "outputs": [
    {
     "data": {
      "text/html": [
       "<div>\n",
       "<style scoped>\n",
       "    .dataframe tbody tr th:only-of-type {\n",
       "        vertical-align: middle;\n",
       "    }\n",
       "\n",
       "    .dataframe tbody tr th {\n",
       "        vertical-align: top;\n",
       "    }\n",
       "\n",
       "    .dataframe thead th {\n",
       "        text-align: right;\n",
       "    }\n",
       "</style>\n",
       "<table border=\"1\" class=\"dataframe\">\n",
       "  <thead>\n",
       "    <tr style=\"text-align: right;\">\n",
       "      <th></th>\n",
       "      <th>Rating</th>\n",
       "      <th>Cost(per hour USD)</th>\n",
       "      <th>Cloud Instances</th>\n",
       "      <th>cluster</th>\n",
       "    </tr>\n",
       "  </thead>\n",
       "  <tbody>\n",
       "    <tr>\n",
       "      <td>27</td>\n",
       "      <td>2.0</td>\n",
       "      <td>0.0450</td>\n",
       "      <td>Lin.C</td>\n",
       "      <td>2</td>\n",
       "    </tr>\n",
       "    <tr>\n",
       "      <td>22</td>\n",
       "      <td>3.0</td>\n",
       "      <td>0.0950</td>\n",
       "      <td>N1s2</td>\n",
       "      <td>1</td>\n",
       "    </tr>\n",
       "    <tr>\n",
       "      <td>104</td>\n",
       "      <td>4.0</td>\n",
       "      <td>0.1000</td>\n",
       "      <td>c4.large</td>\n",
       "      <td>0</td>\n",
       "    </tr>\n",
       "    <tr>\n",
       "      <td>28</td>\n",
       "      <td>3.0</td>\n",
       "      <td>0.1330</td>\n",
       "      <td>r4.large</td>\n",
       "      <td>1</td>\n",
       "    </tr>\n",
       "    <tr>\n",
       "      <td>39</td>\n",
       "      <td>4.0</td>\n",
       "      <td>0.0208</td>\n",
       "      <td>t3.small</td>\n",
       "      <td>0</td>\n",
       "    </tr>\n",
       "    <tr>\n",
       "      <td>...</td>\n",
       "      <td>...</td>\n",
       "      <td>...</td>\n",
       "      <td>...</td>\n",
       "      <td>...</td>\n",
       "    </tr>\n",
       "    <tr>\n",
       "      <td>15</td>\n",
       "      <td>3.0</td>\n",
       "      <td>0.0230</td>\n",
       "      <td>t2.small</td>\n",
       "      <td>1</td>\n",
       "    </tr>\n",
       "    <tr>\n",
       "      <td>16</td>\n",
       "      <td>4.0</td>\n",
       "      <td>0.0752</td>\n",
       "      <td>t3a.large</td>\n",
       "      <td>0</td>\n",
       "    </tr>\n",
       "    <tr>\n",
       "      <td>17</td>\n",
       "      <td>4.0</td>\n",
       "      <td>0.0376</td>\n",
       "      <td>t3a.medium</td>\n",
       "      <td>0</td>\n",
       "    </tr>\n",
       "    <tr>\n",
       "      <td>18</td>\n",
       "      <td>4.0</td>\n",
       "      <td>0.0188</td>\n",
       "      <td>t3a.small</td>\n",
       "      <td>0</td>\n",
       "    </tr>\n",
       "    <tr>\n",
       "      <td>19</td>\n",
       "      <td>3.0</td>\n",
       "      <td>0.0208</td>\n",
       "      <td>t3.small</td>\n",
       "      <td>1</td>\n",
       "    </tr>\n",
       "  </tbody>\n",
       "</table>\n",
       "<p>200 rows × 4 columns</p>\n",
       "</div>"
      ],
      "text/plain": [
       "     Rating  Cost(per hour USD) Cloud Instances  cluster\n",
       "27      2.0              0.0450           Lin.C        2\n",
       "22      3.0              0.0950            N1s2        1\n",
       "104     4.0              0.1000        c4.large        0\n",
       "28      3.0              0.1330        r4.large        1\n",
       "39      4.0              0.0208        t3.small        0\n",
       "..      ...                 ...             ...      ...\n",
       "15      3.0              0.0230        t2.small        1\n",
       "16      4.0              0.0752       t3a.large        0\n",
       "17      4.0              0.0376      t3a.medium        0\n",
       "18      4.0              0.0188       t3a.small        0\n",
       "19      3.0              0.0208        t3.small        1\n",
       "\n",
       "[200 rows x 4 columns]"
      ]
     },
     "execution_count": 6,
     "metadata": {},
     "output_type": "execute_result"
    }
   ],
   "source": [
    "df['cluster']=labels\n",
    "df"
   ]
  },
  {
   "cell_type": "code",
   "execution_count": 7,
   "metadata": {},
   "outputs": [],
   "source": [
    "df1=df.iloc[0:180,:]\n",
    "df1\n",
    "lab1=df1['cluster'].values.tolist()"
   ]
  },
  {
   "cell_type": "code",
   "execution_count": 8,
   "metadata": {},
   "outputs": [
    {
     "data": {
      "text/plain": [
       "Text(0, 0.5, 'Rating')"
      ]
     },
     "execution_count": 8,
     "metadata": {},
     "output_type": "execute_result"
    },
    {
     "data": {
      "image/png": "[encoded data removed]",
      "text/plain": [
       "<Figure size 720x720 with 1 Axes>"
      ]
     },
     "metadata": {
      "needs_background": "light"
     },
     "output_type": "display_data"
    }
   ],
   "source": [
    "fig = plt.figure(figsize=(10, 10))\n",
    " # Create a colormap\n",
    "colormap = np.array(['green', 'red','yellow','orange'])\n",
    "plt.scatter(df1.iloc[:,1:2], df1.iloc[:,0:1], c=colormap[lab1], edgecolor = 'black', s = 100)\n",
    "plt.title('K Mean Clustering: 4 cluster  ')\n",
    "plt.xlabel('Cost [$ per hour]')\n",
    "plt.ylabel('Rating')"
   ]
  },
  {
   "cell_type": "code",
   "execution_count": 9,
   "metadata": {},
   "outputs": [],
   "source": [
    "xtrain=df[['Rating','Cost(per hour USD)']]\n",
    "xtrain=xtrain[0:144]\n",
    "ytrain=df['cluster'].values.tolist()\n",
    "ytrain=ytrain[0:144]"
   ]
  },
  {
   "cell_type": "code",
   "execution_count": 10,
   "metadata": {},
   "outputs": [
    {
     "data": {
      "text/plain": [
       "GaussianNB(priors=None, var_smoothing=1e-09)"
      ]
     },
     "execution_count": 10,
     "metadata": {},
     "output_type": "execute_result"
    }
   ],
   "source": [
    "classifier = GaussianNB()\n",
    "classifier.fit(xtrain, ytrain)"
   ]
  },
  {
   "cell_type": "code",
   "execution_count": 11,
   "metadata": {},
   "outputs": [],
   "source": [
    "xtest=df[['Rating','Cost(per hour USD)']]\n",
    "xt=df[['Rating','Cost(per hour USD)']]\n",
    "\n",
    "#xtest1=xtest[15:20]\n",
    "#xtest=xtest1.append(xt.iloc[1:2,:])\n",
    "\n",
    "xtest=xtest[144:180]\n",
    "b=df['cluster'].values.tolist()\n",
    "\n",
    "y_actual=b[144:180]\n",
    "#y_actual.append(2)"
   ]
  },
  {
   "cell_type": "code",
   "execution_count": 12,
   "metadata": {},
   "outputs": [
    {
     "name": "stdout",
     "output_type": "stream",
     "text": [
      "Model Accuracy is 100.0 %\n"
     ]
    }
   ],
   "source": [
    "y_pred = classifier.predict(xtest)\n",
    "\n",
    "print('Model Accuracy is',100*accuracy_score(y_pred,y_actual),'%')\n"
   ]
  },
  {
   "cell_type": "code",
   "execution_count": 13,
   "metadata": {},
   "outputs": [
    {
     "name": "stdout",
     "output_type": "stream",
     "text": [
      "[[ 8  0  0  0]\n",
      " [ 0 23  0  0]\n",
      " [ 0  0  3  0]\n",
      " [ 0  0  0  2]]\n"
     ]
    }
   ],
   "source": [
    "print(confusion_matrix(y_pred, y_actual))\n"
   ]
  },
  {
   "cell_type": "code",
   "execution_count": 14,
   "metadata": {},
   "outputs": [
    {
     "data": {
      "image/png": "[encoded data removed]",
      "text/plain": [
       "<Figure size 432x288 with 1 Axes>"
      ]
     },
     "metadata": {
      "needs_background": "light"
     },
     "output_type": "display_data"
    }
   ],
   "source": [
    "import numpy as np\n",
    "import matplotlib\n",
    "import matplotlib.pyplot as plt\n",
    "# sphinx_gallery_thumbnail_number = 2\n",
    "\n",
    "a_label = [\"Excellent\", \"Good\",\"Average\", \"Bad\"]\n",
    "p_label = [\"Excellent\",\"Good\", \"Average\", \"Bad\"]\n",
    "\n",
    "#harvest = np.array([[4,0,0],[0,0,0], [0,7,1]])\n",
    "cm=confusion_matrix(y_pred, y_actual)\n",
    "\n",
    "fig, ax = plt.subplots()\n",
    "im = ax.imshow(cm)\n",
    "\n",
    "# We want to show all ticks...\n",
    "ax.set_xticks(np.arange(len(a_label)))\n",
    "ax.set_yticks(np.arange(len(p_label)))\n",
    "# ... and label them with the respective list entries\n",
    "ax.set_xticklabels(a_label)\n",
    "ax.set_yticklabels(a_label)\n",
    "ax.set_ylim(len(cm)-0.5, -0.5)\n",
    "\n",
    "# Rotate the tick labels and set their alignment.\n",
    "plt.setp(ax.get_xticklabels(), rotation=45, ha=\"right\",\n",
    "         rotation_mode=\"anchor\")\n",
    "\n",
    "# Loop over data dimensions and create text annotations.\n",
    "for i in range(len(a_label)):\n",
    "    for j in range(len(p_label)):\n",
    "        text = ax.text(j, i, cm[i, j],\n",
    "                       ha=\"center\", va=\"center\", color=\"w\")\n",
    "ax.set_xlabel(\"Predicted Label\")        \n",
    "ax.set_ylabel(\"True Label\")        \n",
    "\n",
    "#ax.set_title(\"Harvest of local farmers (in tons/year)\")\n",
    "fig.tight_layout()\n",
    "plt.show()"
   ]
  },
  {
   "cell_type": "code",
   "execution_count": 15,
   "metadata": {},
   "outputs": [],
   "source": [
    "x_qode=df_veri[['Rating','Cost(per hour USD)']]\n",
    "\n",
    "y_pred = classifier.predict(x_qode)\n"
   ]
  },
  {
   "cell_type": "code",
   "execution_count": 16,
   "metadata": {},
   "outputs": [
    {
     "name": "stdout",
     "output_type": "stream",
     "text": [
      "[[ 5  0  0  0]\n",
      " [ 0 11  0  0]\n",
      " [ 0  0  3  0]\n",
      " [ 0  0  1  0]]\n"
     ]
    }
   ],
   "source": [
    "y_actual=b[180:200]\n",
    "\n",
    "y_actual\n",
    "print(confusion_matrix(y_pred, y_actual))\n"
   ]
  },
  {
   "cell_type": "code",
   "execution_count": 17,
   "metadata": {},
   "outputs": [
    {
     "name": "stdout",
     "output_type": "stream",
     "text": [
      "Model Accuracy is 95.0 %\n"
     ]
    }
   ],
   "source": [
    "print('Model Accuracy is',100*accuracy_score(y_pred,y_actual),'%')\n"
   ]
  },
  {
   "cell_type": "code",
   "execution_count": 18,
   "metadata": {},
   "outputs": [
    {
     "data": {
      "image/png": "[encoded data removed]",
      "text/plain": [
       "<Figure size 432x288 with 1 Axes>"
      ]
     },
     "metadata": {
      "needs_background": "light"
     },
     "output_type": "display_data"
    }
   ],
   "source": [
    "import numpy as np\n",
    "import matplotlib\n",
    "import matplotlib.pyplot as plt\n",
    "# sphinx_gallery_thumbnail_number = 2\n",
    "\n",
    "a_label = [\"Excellent\", \"Good\",\"Average\", \"Bad\"]\n",
    "p_label = [\"Excellent\",\"Good\", \"Average\", \"Bad\"]\n",
    "\n",
    "#harvest = np.array([[4,0,0],[0,0,0], [0,7,1]])\n",
    "cm=confusion_matrix(y_pred, y_actual)\n",
    "\n",
    "fig, ax = plt.subplots()\n",
    "im = ax.imshow(cm)\n",
    "\n",
    "# We want to show all ticks...\n",
    "ax.set_xticks(np.arange(len(a_label)))\n",
    "ax.set_yticks(np.arange(len(p_label)))\n",
    "# ... and label them with the respective list entries\n",
    "ax.set_xticklabels(a_label)\n",
    "ax.set_yticklabels(a_label)\n",
    "ax.set_ylim(len(cm)-0.5, -0.5)\n",
    "\n",
    "# Rotate the tick labels and set their alignment.\n",
    "plt.setp(ax.get_xticklabels(), rotation=45, ha=\"right\",\n",
    "         rotation_mode=\"anchor\")\n",
    "\n",
    "# Loop over data dimensions and create text annotations.\n",
    "for i in range(len(a_label)):\n",
    "    for j in range(len(p_label)):\n",
    "        text = ax.text(j, i, cm[i, j],\n",
    "                       ha=\"center\", va=\"center\", color=\"w\")\n",
    "ax.set_xlabel(\"Predicted Label\")        \n",
    "ax.set_ylabel(\"True Label\")        \n",
    "\n",
    "#ax.set_title(\"Harvest of local farmers (in tons/year)\")\n",
    "fig.tight_layout()\n",
    "plt.show()"
   ]
  },
  {
   "cell_type": "code",
   "execution_count": 21,
   "metadata": {},
   "outputs": [
    {
     "data": {
      "text/html": [
       "<div>\n",
       "<style scoped>\n",
       "    .dataframe tbody tr th:only-of-type {\n",
       "        vertical-align: middle;\n",
       "    }\n",
       "\n",
       "    .dataframe tbody tr th {\n",
       "        vertical-align: top;\n",
       "    }\n",
       "\n",
       "    .dataframe thead th {\n",
       "        text-align: right;\n",
       "    }\n",
       "</style>\n",
       "<table border=\"1\" class=\"dataframe\">\n",
       "  <thead>\n",
       "    <tr style=\"text-align: right;\">\n",
       "      <th></th>\n",
       "      <th>Rating</th>\n",
       "      <th>Cost(per hour USD)</th>\n",
       "      <th>Cloud Instances</th>\n",
       "      <th>cluster</th>\n",
       "    </tr>\n",
       "  </thead>\n",
       "  <tbody>\n",
       "    <tr>\n",
       "      <td>27</td>\n",
       "      <td>2.0</td>\n",
       "      <td>0.0450</td>\n",
       "      <td>Lin.C</td>\n",
       "      <td>2</td>\n",
       "    </tr>\n",
       "    <tr>\n",
       "      <td>22</td>\n",
       "      <td>3.0</td>\n",
       "      <td>0.0950</td>\n",
       "      <td>N1s2</td>\n",
       "      <td>1</td>\n",
       "    </tr>\n",
       "    <tr>\n",
       "      <td>104</td>\n",
       "      <td>4.0</td>\n",
       "      <td>0.1000</td>\n",
       "      <td>c4.large</td>\n",
       "      <td>0</td>\n",
       "    </tr>\n",
       "    <tr>\n",
       "      <td>28</td>\n",
       "      <td>3.0</td>\n",
       "      <td>0.1330</td>\n",
       "      <td>r4.large</td>\n",
       "      <td>1</td>\n",
       "    </tr>\n",
       "    <tr>\n",
       "      <td>39</td>\n",
       "      <td>4.0</td>\n",
       "      <td>0.0208</td>\n",
       "      <td>t3.small</td>\n",
       "      <td>0</td>\n",
       "    </tr>\n",
       "    <tr>\n",
       "      <td>...</td>\n",
       "      <td>...</td>\n",
       "      <td>...</td>\n",
       "      <td>...</td>\n",
       "      <td>...</td>\n",
       "    </tr>\n",
       "    <tr>\n",
       "      <td>24</td>\n",
       "      <td>4.0</td>\n",
       "      <td>0.1000</td>\n",
       "      <td>c4.large</td>\n",
       "      <td>0</td>\n",
       "    </tr>\n",
       "    <tr>\n",
       "      <td>138</td>\n",
       "      <td>1.0</td>\n",
       "      <td>0.0188</td>\n",
       "      <td>t3a.small</td>\n",
       "      <td>3</td>\n",
       "    </tr>\n",
       "    <tr>\n",
       "      <td>171</td>\n",
       "      <td>3.0</td>\n",
       "      <td>0.0900</td>\n",
       "      <td>Lin.M</td>\n",
       "      <td>1</td>\n",
       "    </tr>\n",
       "    <tr>\n",
       "      <td>94</td>\n",
       "      <td>3.0</td>\n",
       "      <td>0.0464</td>\n",
       "      <td>t2.medium</td>\n",
       "      <td>1</td>\n",
       "    </tr>\n",
       "    <tr>\n",
       "      <td>57</td>\n",
       "      <td>3.0</td>\n",
       "      <td>0.0376</td>\n",
       "      <td>t3a.medium</td>\n",
       "      <td>1</td>\n",
       "    </tr>\n",
       "  </tbody>\n",
       "</table>\n",
       "<p>180 rows × 4 columns</p>\n",
       "</div>"
      ],
      "text/plain": [
       "     Rating  Cost(per hour USD) Cloud Instances  cluster\n",
       "27      2.0              0.0450           Lin.C        2\n",
       "22      3.0              0.0950            N1s2        1\n",
       "104     4.0              0.1000        c4.large        0\n",
       "28      3.0              0.1330        r4.large        1\n",
       "39      4.0              0.0208        t3.small        0\n",
       "..      ...                 ...             ...      ...\n",
       "24      4.0              0.1000        c4.large        0\n",
       "138     1.0              0.0188       t3a.small        3\n",
       "171     3.0              0.0900           Lin.M        1\n",
       "94      3.0              0.0464       t2.medium        1\n",
       "57      3.0              0.0376      t3a.medium        1\n",
       "\n",
       "[180 rows x 4 columns]"
      ]
     },
     "execution_count": 21,
     "metadata": {},
     "output_type": "execute_result"
    }
   ],
   "source": [
    "df11=df.iloc[0:180,:]\n",
    "df11"
   ]
  },
  {
   "cell_type": "code",
   "execution_count": null,
   "metadata": {},
   "outputs": [],
   "source": []
  },
  {
   "cell_type": "code",
   "execution_count": null,
   "metadata": {},
   "outputs": [],
   "source": []
  }
 ],
 "metadata": {
  "kernelspec": {
   "display_name": "Python 3",
   "language": "python",
   "name": "python3"
  },
  "language_info": {
   "codemirror_mode": {
    "name": "ipython",
    "version": 3
   },
   "file_extension": ".py",
   "mimetype": "text/x-python",
   "name": "python",
   "nbconvert_exporter": "python",
   "pygments_lexer": "ipython3",
   "version": "3.7.4"
  }
 },
 "nbformat": 4,
 "nbformat_minor": 2
}
