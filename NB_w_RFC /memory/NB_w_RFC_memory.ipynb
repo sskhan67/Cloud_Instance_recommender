{
 "cells": [
  {
   "cell_type": "markdown",
   "metadata": {},
   "source": [
    "# Title: Cloud Instances Recommender for NB w RFC Balanced Class Application"
   ]
  },
  {
   "cell_type": "markdown",
   "metadata": {},
   "source": [
    "# Library Load"
   ]
  },
  {
   "cell_type": "code",
   "execution_count": 1,
   "metadata": {},
   "outputs": [],
   "source": [
    "import pandas as pd\n",
    "import matplotlib.pyplot as plt\n",
    "import math\n",
    "from sklearn.cluster import KMeans\n",
    "from sklearn import preprocessing\n",
    "import numpy as np\n",
    "import math\n",
    "from statistics import mean \n",
    "import statistics\n",
    "from sklearn.naive_bayes import GaussianNB\n",
    "from sklearn.metrics import confusion_matrix\n",
    "from sklearn.metrics import accuracy_score\n",
    "from sklearn.metrics import classification_report,confusion_matrix\n",
    "from sklearn import metrics\n",
    "from sklearn.metrics import mean_absolute_error\n",
    "from sklearn.metrics import classification_report,confusion_matrix\n",
    "from sklearn.utils import shuffle\n",
    "\n",
    "%matplotlib inline"
   ]
  },
  {
   "cell_type": "markdown",
   "metadata": {},
   "source": [
    "# Read Dataset "
   ]
  },
  {
   "cell_type": "code",
   "execution_count": 5,
   "metadata": {},
   "outputs": [
    {
     "data": {
      "text/html": [
       "<div>\n",
       "<style scoped>\n",
       "    .dataframe tbody tr th:only-of-type {\n",
       "        vertical-align: middle;\n",
       "    }\n",
       "\n",
       "    .dataframe tbody tr th {\n",
       "        vertical-align: top;\n",
       "    }\n",
       "\n",
       "    .dataframe thead th {\n",
       "        text-align: right;\n",
       "    }\n",
       "</style>\n",
       "<table border=\"1\" class=\"dataframe\">\n",
       "  <thead>\n",
       "    <tr style=\"text-align: right;\">\n",
       "      <th></th>\n",
       "      <th>Rating</th>\n",
       "      <th>Cost(per hour USD)</th>\n",
       "      <th>Instance</th>\n",
       "    </tr>\n",
       "  </thead>\n",
       "  <tbody>\n",
       "    <tr>\n",
       "      <td>0</td>\n",
       "      <td>3.333333</td>\n",
       "      <td>0.0928</td>\n",
       "      <td>t2.large</td>\n",
       "    </tr>\n",
       "    <tr>\n",
       "      <td>1</td>\n",
       "      <td>1.666667</td>\n",
       "      <td>0.0832</td>\n",
       "      <td>B2ms</td>\n",
       "    </tr>\n",
       "    <tr>\n",
       "      <td>2</td>\n",
       "      <td>2.666667</td>\n",
       "      <td>0.0950</td>\n",
       "      <td>N1s2</td>\n",
       "    </tr>\n",
       "    <tr>\n",
       "      <td>3</td>\n",
       "      <td>1.666667</td>\n",
       "      <td>0.0150</td>\n",
       "      <td>Lin.G</td>\n",
       "    </tr>\n",
       "    <tr>\n",
       "      <td>4</td>\n",
       "      <td>4.000000</td>\n",
       "      <td>0.1000</td>\n",
       "      <td>c4.large</td>\n",
       "    </tr>\n",
       "    <tr>\n",
       "      <td>...</td>\n",
       "      <td>...</td>\n",
       "      <td>...</td>\n",
       "      <td>...</td>\n",
       "    </tr>\n",
       "    <tr>\n",
       "      <td>415</td>\n",
       "      <td>2.000000</td>\n",
       "      <td>0.0230</td>\n",
       "      <td>t2.small</td>\n",
       "    </tr>\n",
       "    <tr>\n",
       "      <td>416</td>\n",
       "      <td>4.000000</td>\n",
       "      <td>0.0752</td>\n",
       "      <td>t3a.large</td>\n",
       "    </tr>\n",
       "    <tr>\n",
       "      <td>417</td>\n",
       "      <td>4.000000</td>\n",
       "      <td>0.0376</td>\n",
       "      <td>t3a.medium</td>\n",
       "    </tr>\n",
       "    <tr>\n",
       "      <td>418</td>\n",
       "      <td>3.000000</td>\n",
       "      <td>0.0188</td>\n",
       "      <td>t3a.small</td>\n",
       "    </tr>\n",
       "    <tr>\n",
       "      <td>419</td>\n",
       "      <td>2.000000</td>\n",
       "      <td>0.0208</td>\n",
       "      <td>t3.small</td>\n",
       "    </tr>\n",
       "  </tbody>\n",
       "</table>\n",
       "<p>420 rows × 3 columns</p>\n",
       "</div>"
      ],
      "text/plain": [
       "       Rating  Cost(per hour USD)    Instance\n",
       "0    3.333333              0.0928    t2.large\n",
       "1    1.666667              0.0832        B2ms\n",
       "2    2.666667              0.0950        N1s2\n",
       "3    1.666667              0.0150       Lin.G\n",
       "4    4.000000              0.1000    c4.large\n",
       "..        ...                 ...         ...\n",
       "415  2.000000              0.0230    t2.small\n",
       "416  4.000000              0.0752   t3a.large\n",
       "417  4.000000              0.0376  t3a.medium\n",
       "418  3.000000              0.0188   t3a.small\n",
       "419  2.000000              0.0208    t3.small\n",
       "\n",
       "[420 rows x 3 columns]"
      ]
     },
     "execution_count": 5,
     "metadata": {},
     "output_type": "execute_result"
    }
   ],
   "source": [
    "# dataset \n",
    "df = pd.read_csv(\"dataset_memory_AI.csv\")\n",
    "\n",
    "# QODE verification dataset \n",
    "df_veri= pd.read_csv(\"dataset_memory_runtime_scala.csv\")\n",
    "df"
   ]
  },
  {
   "cell_type": "code",
   "execution_count": 6,
   "metadata": {},
   "outputs": [],
   "source": [
    "df = shuffle(df)\n",
    "df=df.append(df_veri)"
   ]
  },
  {
   "cell_type": "code",
   "execution_count": 7,
   "metadata": {},
   "outputs": [
    {
     "data": {
      "text/html": [
       "<div>\n",
       "<style scoped>\n",
       "    .dataframe tbody tr th:only-of-type {\n",
       "        vertical-align: middle;\n",
       "    }\n",
       "\n",
       "    .dataframe tbody tr th {\n",
       "        vertical-align: top;\n",
       "    }\n",
       "\n",
       "    .dataframe thead th {\n",
       "        text-align: right;\n",
       "    }\n",
       "</style>\n",
       "<table border=\"1\" class=\"dataframe\">\n",
       "  <thead>\n",
       "    <tr style=\"text-align: right;\">\n",
       "      <th></th>\n",
       "      <th>Rating</th>\n",
       "      <th>Cost(per hour USD)</th>\n",
       "      <th>Instance</th>\n",
       "    </tr>\n",
       "  </thead>\n",
       "  <tbody>\n",
       "    <tr>\n",
       "      <td>24</td>\n",
       "      <td>2.666667</td>\n",
       "      <td>0.1000</td>\n",
       "      <td>c4.large</td>\n",
       "    </tr>\n",
       "    <tr>\n",
       "      <td>92</td>\n",
       "      <td>3.000000</td>\n",
       "      <td>0.0850</td>\n",
       "      <td>c5.large</td>\n",
       "    </tr>\n",
       "    <tr>\n",
       "      <td>407</td>\n",
       "      <td>1.000000</td>\n",
       "      <td>0.0450</td>\n",
       "      <td>Lin.C</td>\n",
       "    </tr>\n",
       "    <tr>\n",
       "      <td>329</td>\n",
       "      <td>2.000000</td>\n",
       "      <td>0.1260</td>\n",
       "      <td>E2s</td>\n",
       "    </tr>\n",
       "    <tr>\n",
       "      <td>109</td>\n",
       "      <td>2.000000</td>\n",
       "      <td>0.1260</td>\n",
       "      <td>E2s</td>\n",
       "    </tr>\n",
       "    <tr>\n",
       "      <td>...</td>\n",
       "      <td>...</td>\n",
       "      <td>...</td>\n",
       "      <td>...</td>\n",
       "    </tr>\n",
       "    <tr>\n",
       "      <td>15</td>\n",
       "      <td>1.000000</td>\n",
       "      <td>0.0230</td>\n",
       "      <td>t2.small</td>\n",
       "    </tr>\n",
       "    <tr>\n",
       "      <td>16</td>\n",
       "      <td>3.666667</td>\n",
       "      <td>0.0752</td>\n",
       "      <td>t3a.large</td>\n",
       "    </tr>\n",
       "    <tr>\n",
       "      <td>17</td>\n",
       "      <td>3.666667</td>\n",
       "      <td>0.0376</td>\n",
       "      <td>t3a.medium</td>\n",
       "    </tr>\n",
       "    <tr>\n",
       "      <td>18</td>\n",
       "      <td>3.666667</td>\n",
       "      <td>0.0188</td>\n",
       "      <td>t3a.small</td>\n",
       "    </tr>\n",
       "    <tr>\n",
       "      <td>19</td>\n",
       "      <td>4.000000</td>\n",
       "      <td>0.0208</td>\n",
       "      <td>t3.small</td>\n",
       "    </tr>\n",
       "  </tbody>\n",
       "</table>\n",
       "<p>440 rows × 3 columns</p>\n",
       "</div>"
      ],
      "text/plain": [
       "       Rating  Cost(per hour USD)    Instance\n",
       "24   2.666667              0.1000    c4.large\n",
       "92   3.000000              0.0850    c5.large\n",
       "407  1.000000              0.0450       Lin.C\n",
       "329  2.000000              0.1260         E2s\n",
       "109  2.000000              0.1260         E2s\n",
       "..        ...                 ...         ...\n",
       "15   1.000000              0.0230    t2.small\n",
       "16   3.666667              0.0752   t3a.large\n",
       "17   3.666667              0.0376  t3a.medium\n",
       "18   3.666667              0.0188   t3a.small\n",
       "19   4.000000              0.0208    t3.small\n",
       "\n",
       "[440 rows x 3 columns]"
      ]
     },
     "execution_count": 7,
     "metadata": {},
     "output_type": "execute_result"
    }
   ],
   "source": [
    "df"
   ]
  },
  {
   "cell_type": "markdown",
   "metadata": {},
   "source": [
    "# Data Plot"
   ]
  },
  {
   "cell_type": "code",
   "execution_count": 8,
   "metadata": {},
   "outputs": [
    {
     "data": {
      "image/png": "[encoded data removed]",
      "text/plain": [
       "<Figure size 720x720 with 1 Axes>"
      ]
     },
     "metadata": {
      "needs_background": "light"
     },
     "output_type": "display_data"
    }
   ],
   "source": [
    "fig = plt.figure(figsize=(10, 10))\n",
    "\n",
    "plt.scatter(df.iloc[:,1:2],df.iloc[:,0:1],  marker='o')\n",
    "plt.xlabel('Cost [$ per hour]')\n",
    "plt.ylabel('A2Cloud Rating')\n",
    "plt.show()"
   ]
  },
  {
   "cell_type": "markdown",
   "metadata": {},
   "source": [
    "# K-Means"
   ]
  },
  {
   "cell_type": "code",
   "execution_count": 9,
   "metadata": {},
   "outputs": [
    {
     "data": {
      "text/plain": [
       "array([1, 1, 0, 2, 2, 0, 2, 0, 2, 2, 2, 2, 0, 0, 2, 0, 0, 3, 2, 2, 0, 0,\n",
       "       1, 2, 1, 1, 3, 1, 1, 0, 2, 2, 2, 3, 2, 0, 1, 2, 2, 1, 0, 0, 1, 0,\n",
       "       0, 2, 0, 0, 3, 0, 2, 1, 1, 2, 3, 1, 2, 1, 2, 2, 3, 2, 0, 2, 3, 0,\n",
       "       1, 1, 0, 2, 2, 2, 2, 0, 0, 0, 3, 3, 2, 3, 2, 2, 2, 2, 2, 0, 0, 2,\n",
       "       0, 2, 0, 2, 0, 2, 0, 3, 2, 2, 1, 0, 0, 0, 0, 2, 0, 0, 1, 3, 0, 0,\n",
       "       1, 0, 2, 1, 3, 2, 2, 2, 0, 2, 0, 2, 0, 2, 1, 2, 3, 0, 2, 2, 2, 0,\n",
       "       3, 2, 0, 0, 0, 2, 2, 0, 3, 0, 1, 3, 0, 2, 0, 0, 2, 1, 2, 2, 3, 2,\n",
       "       2, 0, 1, 2, 3, 1, 2, 0, 3, 3, 0, 2, 2, 2, 0, 1, 2, 0, 2, 2, 2, 2,\n",
       "       0, 2, 2, 0, 1, 0, 0, 2, 3, 1, 0, 0, 0, 2, 2, 1, 0, 0, 2, 3, 0, 2,\n",
       "       2, 2, 2, 0, 1, 2, 0, 2, 0, 2, 1, 2, 1, 2, 2, 0, 2, 2, 3, 0, 2, 2,\n",
       "       2, 2, 3, 2, 0, 1, 2, 0, 1, 2, 0, 3, 0, 0, 2, 2, 2, 2, 0, 1, 2, 2,\n",
       "       2, 3, 2, 2, 2, 2, 2, 0, 0, 2, 1, 3, 0, 3, 0, 3, 2, 1, 0, 0, 3, 2,\n",
       "       2, 2, 0, 0, 2, 1, 1, 2, 1, 3, 0, 0, 2, 3, 3, 0, 0, 1, 2, 0, 2, 2,\n",
       "       0, 1, 2, 0, 0, 0, 1, 2, 0, 2, 2, 0, 0, 1, 1, 0, 1, 2, 0, 3, 2, 0,\n",
       "       3, 0, 0, 3, 0, 1, 0, 2, 2, 0, 2, 2, 0, 0, 2, 0, 0, 0, 0, 2, 1, 2,\n",
       "       2, 2, 3, 0, 0, 2, 3, 2, 0, 2, 2, 3, 1, 3, 0, 2, 2, 1, 2, 3, 0, 3,\n",
       "       1, 3, 3, 2, 0, 2, 2, 2, 1, 2, 3, 2, 2, 0, 0, 0, 0, 2, 0, 2, 1, 2,\n",
       "       0, 0, 2, 2, 2, 3, 0, 2, 2, 0, 2, 2, 0, 2, 1, 1, 0, 2, 3, 0, 1, 2,\n",
       "       0, 3, 0, 2, 2, 0, 1, 0, 3, 2, 0, 2, 0, 2, 0, 2, 2, 2, 2, 2, 3, 0,\n",
       "       2, 0, 3, 0, 1, 2, 3, 1, 2, 1, 3, 1, 1, 0, 3, 3, 1, 0, 3, 3, 3, 3],\n",
       "      dtype=int32)"
      ]
     },
     "execution_count": 9,
     "metadata": {},
     "output_type": "execute_result"
    }
   ],
   "source": [
    "X=df.iloc[:,0:2]\n",
    "model = KMeans(n_clusters = 4)\n",
    "kmeans=model.fit(X)\n",
    "labels = kmeans.labels_ # creating classification columns for supervised learning \n",
    "labels"
   ]
  },
  {
   "cell_type": "code",
   "execution_count": 10,
   "metadata": {},
   "outputs": [],
   "source": [
    "df['cluster']=labels\n"
   ]
  },
  {
   "cell_type": "markdown",
   "metadata": {},
   "source": [
    "# Plot Data"
   ]
  },
  {
   "cell_type": "code",
   "execution_count": 11,
   "metadata": {},
   "outputs": [
    {
     "data": {
      "text/plain": [
       "Text(0, 0.5, 'A2Cloud Score')"
      ]
     },
     "execution_count": 11,
     "metadata": {},
     "output_type": "execute_result"
    },
    {
     "data": {
      "image/png": "[encoded data removed]",
      "text/plain": [
       "<Figure size 720x720 with 1 Axes>"
      ]
     },
     "metadata": {
      "needs_background": "light"
     },
     "output_type": "display_data"
    }
   ],
   "source": [
    "fig = plt.figure(figsize=(10, 10))\n",
    " # Create a colormap\n",
    "colormap = np.array(['green', 'red','yellow','orange'])\n",
    "plt.scatter(df.iloc[:,1:2], df.iloc[:,0:1], c=colormap[labels], edgecolor = 'black', s = 100)\n",
    "plt.title('K Mean Clustering: 4 cluster  ')\n",
    "plt.xlabel('Cost [$ per hour]')\n",
    "plt.ylabel('A2Cloud Score')"
   ]
  },
  {
   "cell_type": "markdown",
   "metadata": {},
   "source": [
    "### Cluster Number conversion: 4-excellent, 3-good, 2-avg, 1- bad"
   ]
  },
  {
   "cell_type": "code",
   "execution_count": 12,
   "metadata": {},
   "outputs": [
    {
     "data": {
      "text/html": [
       "<div>\n",
       "<style scoped>\n",
       "    .dataframe tbody tr th:only-of-type {\n",
       "        vertical-align: middle;\n",
       "    }\n",
       "\n",
       "    .dataframe tbody tr th {\n",
       "        vertical-align: top;\n",
       "    }\n",
       "\n",
       "    .dataframe thead th {\n",
       "        text-align: right;\n",
       "    }\n",
       "</style>\n",
       "<table border=\"1\" class=\"dataframe\">\n",
       "  <thead>\n",
       "    <tr style=\"text-align: right;\">\n",
       "      <th></th>\n",
       "      <th>Rating</th>\n",
       "      <th>Cost(per hour USD)</th>\n",
       "      <th>Instance</th>\n",
       "      <th>cluster</th>\n",
       "    </tr>\n",
       "  </thead>\n",
       "  <tbody>\n",
       "    <tr>\n",
       "      <td>0</td>\n",
       "      <td>3.666667</td>\n",
       "      <td>0.0928</td>\n",
       "      <td>t2.large</td>\n",
       "      <td>3</td>\n",
       "    </tr>\n",
       "    <tr>\n",
       "      <td>1</td>\n",
       "      <td>1.333333</td>\n",
       "      <td>0.0832</td>\n",
       "      <td>B2ms</td>\n",
       "      <td>0</td>\n",
       "    </tr>\n",
       "    <tr>\n",
       "      <td>2</td>\n",
       "      <td>2.666667</td>\n",
       "      <td>0.0950</td>\n",
       "      <td>N1s2</td>\n",
       "      <td>1</td>\n",
       "    </tr>\n",
       "    <tr>\n",
       "      <td>3</td>\n",
       "      <td>2.000000</td>\n",
       "      <td>0.0150</td>\n",
       "      <td>Lin.G</td>\n",
       "      <td>2</td>\n",
       "    </tr>\n",
       "    <tr>\n",
       "      <td>4</td>\n",
       "      <td>4.000000</td>\n",
       "      <td>0.1000</td>\n",
       "      <td>c4.large</td>\n",
       "      <td>3</td>\n",
       "    </tr>\n",
       "    <tr>\n",
       "      <td>5</td>\n",
       "      <td>2.666667</td>\n",
       "      <td>0.0850</td>\n",
       "      <td>F2s</td>\n",
       "      <td>1</td>\n",
       "    </tr>\n",
       "    <tr>\n",
       "      <td>6</td>\n",
       "      <td>2.000000</td>\n",
       "      <td>0.0709</td>\n",
       "      <td>N1cc</td>\n",
       "      <td>2</td>\n",
       "    </tr>\n",
       "    <tr>\n",
       "      <td>7</td>\n",
       "      <td>3.000000</td>\n",
       "      <td>0.0450</td>\n",
       "      <td>Lin.C</td>\n",
       "      <td>1</td>\n",
       "    </tr>\n",
       "    <tr>\n",
       "      <td>8</td>\n",
       "      <td>3.666667</td>\n",
       "      <td>0.1330</td>\n",
       "      <td>r4.large</td>\n",
       "      <td>3</td>\n",
       "    </tr>\n",
       "    <tr>\n",
       "      <td>9</td>\n",
       "      <td>3.000000</td>\n",
       "      <td>0.1260</td>\n",
       "      <td>E2s</td>\n",
       "      <td>1</td>\n",
       "    </tr>\n",
       "    <tr>\n",
       "      <td>10</td>\n",
       "      <td>2.666667</td>\n",
       "      <td>0.1184</td>\n",
       "      <td>N1M2</td>\n",
       "      <td>1</td>\n",
       "    </tr>\n",
       "    <tr>\n",
       "      <td>11</td>\n",
       "      <td>1.333333</td>\n",
       "      <td>0.0900</td>\n",
       "      <td>Lin.M</td>\n",
       "      <td>0</td>\n",
       "    </tr>\n",
       "    <tr>\n",
       "      <td>12</td>\n",
       "      <td>4.000000</td>\n",
       "      <td>0.0850</td>\n",
       "      <td>c5.large</td>\n",
       "      <td>3</td>\n",
       "    </tr>\n",
       "    <tr>\n",
       "      <td>13</td>\n",
       "      <td>3.666667</td>\n",
       "      <td>0.1000</td>\n",
       "      <td>m4.large</td>\n",
       "      <td>3</td>\n",
       "    </tr>\n",
       "    <tr>\n",
       "      <td>14</td>\n",
       "      <td>3.000000</td>\n",
       "      <td>0.0464</td>\n",
       "      <td>t2.medium</td>\n",
       "      <td>1</td>\n",
       "    </tr>\n",
       "    <tr>\n",
       "      <td>15</td>\n",
       "      <td>1.000000</td>\n",
       "      <td>0.0230</td>\n",
       "      <td>t2.small</td>\n",
       "      <td>0</td>\n",
       "    </tr>\n",
       "    <tr>\n",
       "      <td>16</td>\n",
       "      <td>3.666667</td>\n",
       "      <td>0.0752</td>\n",
       "      <td>t3a.large</td>\n",
       "      <td>3</td>\n",
       "    </tr>\n",
       "    <tr>\n",
       "      <td>17</td>\n",
       "      <td>3.666667</td>\n",
       "      <td>0.0376</td>\n",
       "      <td>t3a.medium</td>\n",
       "      <td>3</td>\n",
       "    </tr>\n",
       "    <tr>\n",
       "      <td>18</td>\n",
       "      <td>3.666667</td>\n",
       "      <td>0.0188</td>\n",
       "      <td>t3a.small</td>\n",
       "      <td>3</td>\n",
       "    </tr>\n",
       "    <tr>\n",
       "      <td>19</td>\n",
       "      <td>4.000000</td>\n",
       "      <td>0.0208</td>\n",
       "      <td>t3.small</td>\n",
       "      <td>3</td>\n",
       "    </tr>\n",
       "  </tbody>\n",
       "</table>\n",
       "</div>"
      ],
      "text/plain": [
       "      Rating  Cost(per hour USD)    Instance  cluster\n",
       "0   3.666667              0.0928    t2.large        3\n",
       "1   1.333333              0.0832        B2ms        0\n",
       "2   2.666667              0.0950        N1s2        1\n",
       "3   2.000000              0.0150       Lin.G        2\n",
       "4   4.000000              0.1000    c4.large        3\n",
       "5   2.666667              0.0850         F2s        1\n",
       "6   2.000000              0.0709        N1cc        2\n",
       "7   3.000000              0.0450       Lin.C        1\n",
       "8   3.666667              0.1330    r4.large        3\n",
       "9   3.000000              0.1260         E2s        1\n",
       "10  2.666667              0.1184        N1M2        1\n",
       "11  1.333333              0.0900       Lin.M        0\n",
       "12  4.000000              0.0850    c5.large        3\n",
       "13  3.666667              0.1000    m4.large        3\n",
       "14  3.000000              0.0464   t2.medium        1\n",
       "15  1.000000              0.0230    t2.small        0\n",
       "16  3.666667              0.0752   t3a.large        3\n",
       "17  3.666667              0.0376  t3a.medium        3\n",
       "18  3.666667              0.0188   t3a.small        3\n",
       "19  4.000000              0.0208    t3.small        3"
      ]
     },
     "execution_count": 12,
     "metadata": {},
     "output_type": "execute_result"
    }
   ],
   "source": [
    "df.tail(20)"
   ]
  },
  {
   "cell_type": "code",
   "execution_count": 13,
   "metadata": {},
   "outputs": [],
   "source": [
    "#dataset save as csv file\n",
    "df.to_csv(r'dataset_new.csv',index=False)\n",
    "df_new = pd.read_csv(\"dataset_new.csv\")\n",
    "df1=df_new\n",
    "\n",
    "# check cluster label and set manually to each run\n",
    "df_new=df_new.replace({'cluster':0},5)\n",
    "df_new=df_new.replace({'cluster':1},7)\n",
    "df_new=df_new.replace({'cluster':2},6)\n",
    "df_new=df_new.replace({'cluster':3},8)\n",
    "\n",
    "df_new=df_new.replace({'cluster':5},1)\n",
    "df_new=df_new.replace({'cluster':6},2)\n",
    "df_new=df_new.replace({'cluster':7},3)\n",
    "df_new=df_new.replace({'cluster':8},4)"
   ]
  },
  {
   "cell_type": "code",
   "execution_count": 14,
   "metadata": {},
   "outputs": [],
   "source": [
    "df=df_new"
   ]
  },
  {
   "cell_type": "markdown",
   "metadata": {},
   "source": [
    "# Training"
   ]
  },
  {
   "cell_type": "code",
   "execution_count": 15,
   "metadata": {},
   "outputs": [],
   "source": [
    "xtrain=df[['Rating','Cost(per hour USD)']]\n",
    "xtrain=xtrain[0:336]\n",
    "ytrain=df['cluster'].values.tolist()\n",
    "ytrain=ytrain[0:336]"
   ]
  },
  {
   "cell_type": "code",
   "execution_count": 16,
   "metadata": {},
   "outputs": [
    {
     "data": {
      "text/plain": [
       "GaussianNB(priors=None, var_smoothing=1e-09)"
      ]
     },
     "execution_count": 16,
     "metadata": {},
     "output_type": "execute_result"
    }
   ],
   "source": [
    "classifier = GaussianNB()\n",
    "classifier.fit(xtrain, ytrain)"
   ]
  },
  {
   "cell_type": "markdown",
   "metadata": {},
   "source": [
    "# Testing "
   ]
  },
  {
   "cell_type": "code",
   "execution_count": 38,
   "metadata": {},
   "outputs": [],
   "source": [
    "xtest=df[['Rating','Cost(per hour USD)']]\n",
    "xtest=xtest[336:420]\n",
    "b=df['cluster'].values.tolist()\n",
    "\n",
    "y_actual=b[336:420]"
   ]
  },
  {
   "cell_type": "code",
   "execution_count": 39,
   "metadata": {},
   "outputs": [
    {
     "data": {
      "text/plain": [
       "array([4, 2, 1, 2, 2, 4, 3, 4, 1, 2, 2, 3, 2, 4, 1, 4, 3, 4, 4, 2, 1, 2,\n",
       "       2, 2, 3, 2, 4, 2, 2, 1, 1, 1, 1, 2, 1, 2, 3, 2, 1, 1, 2, 2, 2, 4,\n",
       "       1, 2, 2, 1, 2, 2, 1, 2, 3, 3, 1, 2, 4, 1, 3, 2, 1, 4, 1, 2, 2, 1,\n",
       "       3, 1, 4, 2, 1, 2, 1, 2, 1, 2, 2, 2, 2, 2, 4, 1, 2, 1])"
      ]
     },
     "execution_count": 39,
     "metadata": {},
     "output_type": "execute_result"
    }
   ],
   "source": [
    "y_pred = classifier.predict(xtest)\n",
    "y_pred"
   ]
  },
  {
   "cell_type": "code",
   "execution_count": 40,
   "metadata": {},
   "outputs": [
    {
     "name": "stdout",
     "output_type": "stream",
     "text": [
      "Model Accuracy is 100.0 %\n"
     ]
    }
   ],
   "source": [
    "print('Model Accuracy is',100*accuracy_score(y_pred,y_actual),'%')\n"
   ]
  },
  {
   "cell_type": "code",
   "execution_count": 41,
   "metadata": {},
   "outputs": [
    {
     "name": "stdout",
     "output_type": "stream",
     "text": [
      "[[25  0  0  0]\n",
      " [ 0 37  0  0]\n",
      " [ 0  0  9  0]\n",
      " [ 0  0  0 13]]\n"
     ]
    }
   ],
   "source": [
    "print(confusion_matrix(y_pred, y_actual))\n"
   ]
  },
  {
   "cell_type": "code",
   "execution_count": 42,
   "metadata": {},
   "outputs": [
    {
     "data": {
      "image/png": "[encoded data removed]",
      "text/plain": [
       "<Figure size 432x288 with 1 Axes>"
      ]
     },
     "metadata": {
      "needs_background": "light"
     },
     "output_type": "display_data"
    }
   ],
   "source": [
    "a_label = [\"Bad\",\"Average\",\"Good\",\"Excellent\"]\n",
    "p_label = [\"Bad\",\"Average\",\"Good\",\"Excellent\"]\n",
    "\n",
    "cm=confusion_matrix(y_pred, y_actual)\n",
    "\n",
    "fig, ax = plt.subplots()\n",
    "im = ax.imshow(cm)\n",
    "\n",
    "# We want to show all ticks...\n",
    "ax.set_xticks(np.arange(len(a_label)))\n",
    "ax.set_yticks(np.arange(len(p_label)))\n",
    "# ... and label them with the respective list entries\n",
    "ax.set_xticklabels(a_label)\n",
    "ax.set_yticklabels(a_label)\n",
    "ax.set_ylim(len(cm)-0.5, -0.5)\n",
    "\n",
    "# Rotate the tick labels and set their alignment.\n",
    "plt.setp(ax.get_xticklabels(), rotation=45, ha=\"right\",\n",
    "         rotation_mode=\"anchor\")\n",
    "\n",
    "# Loop over data dimensions and create text annotations.\n",
    "for i in range(len(a_label)):\n",
    "    for j in range(len(p_label)):\n",
    "        text = ax.text(j, i, cm[i, j],\n",
    "                       ha=\"center\", va=\"center\", color=\"w\")\n",
    "ax.set_xlabel(\"Predicted Label\")        \n",
    "ax.set_ylabel(\"True Label\")        \n",
    "\n",
    "fig.tight_layout()\n",
    "plt.show()"
   ]
  },
  {
   "cell_type": "markdown",
   "metadata": {},
   "source": [
    "# SCALA Verification "
   ]
  },
  {
   "cell_type": "code",
   "execution_count": 22,
   "metadata": {},
   "outputs": [],
   "source": [
    "x_qode=df_veri[['Rating','Cost(per hour USD)']]\n",
    "\n",
    "y_pred = classifier.predict(x_qode)"
   ]
  },
  {
   "cell_type": "code",
   "execution_count": 24,
   "metadata": {},
   "outputs": [
    {
     "name": "stdout",
     "output_type": "stream",
     "text": [
      "Model Accuracy is 90.0 %\n"
     ]
    }
   ],
   "source": [
    "y_actual=b[420:440]\n",
    "print('Model Accuracy is',100*accuracy_score(y_pred,y_actual),'%')\n"
   ]
  },
  {
   "cell_type": "code",
   "execution_count": 25,
   "metadata": {},
   "outputs": [
    {
     "data": {
      "image/png": "[encoded data removed]",
      "text/plain": [
       "<Figure size 432x288 with 1 Axes>"
      ]
     },
     "metadata": {
      "needs_background": "light"
     },
     "output_type": "display_data"
    }
   ],
   "source": [
    "a_label = [\"Bad\",\"Average\",\"Good\",\"Excellent\"]\n",
    "p_label = [\"Bad\",\"Average\",\"Good\",\"Excellent\"]\n",
    "\n",
    "cm=confusion_matrix(y_pred, y_actual)\n",
    "\n",
    "fig, ax = plt.subplots()\n",
    "im = ax.imshow(cm)\n",
    "\n",
    "# We want to show all ticks...\n",
    "ax.set_xticks(np.arange(len(a_label)))\n",
    "ax.set_yticks(np.arange(len(p_label)))\n",
    "# ... and label them with the respective list entries\n",
    "ax.set_xticklabels(a_label)\n",
    "ax.set_yticklabels(a_label)\n",
    "ax.set_ylim(len(cm)-0.5, -0.5)\n",
    "\n",
    "# Rotate the tick labels and set their alignment.\n",
    "plt.setp(ax.get_xticklabels(), rotation=45, ha=\"right\",\n",
    "         rotation_mode=\"anchor\")\n",
    "\n",
    "# Loop over data dimensions and create text annotations.\n",
    "for i in range(len(a_label)):\n",
    "    for j in range(len(p_label)):\n",
    "        text = ax.text(j, i, cm[i, j],\n",
    "                       ha=\"center\", va=\"center\", color=\"w\")\n",
    "ax.set_xlabel(\"Predicted Label\")        \n",
    "ax.set_ylabel(\"True Label\")        \n",
    "\n",
    "fig.tight_layout()\n",
    "plt.show()"
   ]
  },
  {
   "cell_type": "code",
   "execution_count": 26,
   "metadata": {},
   "outputs": [
    {
     "name": "stdout",
     "output_type": "stream",
     "text": [
      "              precision    recall  f1-score   support\n",
      "\n",
      "           1       1.00      0.33      0.50         3\n",
      "           2       0.50      1.00      0.67         2\n",
      "           3       1.00      1.00      1.00         6\n",
      "           4       1.00      1.00      1.00         9\n",
      "\n",
      "    accuracy                           0.90        20\n",
      "   macro avg       0.88      0.83      0.79        20\n",
      "weighted avg       0.95      0.90      0.89        20\n",
      "\n"
     ]
    }
   ],
   "source": [
    "print(classification_report(y_actual, y_pred))"
   ]
  },
  {
   "cell_type": "markdown",
   "metadata": {},
   "source": [
    "## Get Instance Suggestion for New application: Input=[A2Cloud_score, cost_per_hour]\n"
   ]
  },
  {
   "cell_type": "code",
   "execution_count": 28,
   "metadata": {},
   "outputs": [
    {
     "name": "stdout",
     "output_type": "stream",
     "text": [
      " Rating (1 to 4): 2\n",
      "Cost of instance (per hour): .1\n"
     ]
    }
   ],
   "source": [
    "# Input from user \n",
    "\n",
    "rating = float(input(' Rating (1 to 4): '))\n",
    "cost = float(input('Cost of instance (per hour): '))\n",
    "\n",
    "# prediction function implementation\n",
    "def Prediction(rating,cost):\n",
    "    y_pred = classifier.predict((np.array([rating,cost])).reshape(1, -1))[0]\n",
    "    return y_pred\n",
    "    \n",
    "# prediction function call \n",
    "guess_cluster=Prediction(rating,cost) \n",
    "\n",
    "#slice dataset based on the predicited cluster \n",
    "training=df[0:336]\n",
    "training=training[training['cluster']==guess_cluster]"
   ]
  },
  {
   "cell_type": "markdown",
   "metadata": {},
   "source": [
    "### Mulitple Instance Recommendation"
   ]
  },
  {
   "cell_type": "code",
   "execution_count": 29,
   "metadata": {},
   "outputs": [
    {
     "name": "stdout",
     "output_type": "stream",
     "text": [
      "The Recommended Instances are:  ['E2s' 'F2s' 't2.small' 'c5.large' 't3.small' 'B2ms' 'm4.large'\n",
      " 't3a.small' 't2.medium' 'c4.large' 't2.large' 'N1cc' 'Lin.G' 'r4.large']\n"
     ]
    }
   ],
   "source": [
    "# calculate unique instances name in the predicted cluster \n",
    "instance=training['Instance'].unique()\n",
    "print(\"The Recommended Instances are: \",instance)"
   ]
  },
  {
   "cell_type": "markdown",
   "metadata": {},
   "source": [
    "### Single Instance Recommendation"
   ]
  },
  {
   "cell_type": "code",
   "execution_count": 30,
   "metadata": {},
   "outputs": [
    {
     "name": "stdout",
     "output_type": "stream",
     "text": [
      "Instance recommendation for your App:  Lin.G\n"
     ]
    }
   ],
   "source": [
    "instance_single=training.sort_values(by=['Rating', 'Cost(per hour USD)'])\n",
    "instance_single=instance_single.iloc[0:1,:]\n",
    "print(\"Instance recommendation for your App: \",instance_single.iloc[0,2:3][0] )"
   ]
  }
 ],
 "metadata": {
  "kernelspec": {
   "display_name": "Python 3",
   "language": "python",
   "name": "python3"
  },
  "language_info": {
   "codemirror_mode": {
    "name": "ipython",
    "version": 3
   },
   "file_extension": ".py",
   "mimetype": "text/x-python",
   "name": "python",
   "nbconvert_exporter": "python",
   "pygments_lexer": "ipython3",
   "version": "3.7.4"
  }
 },
 "nbformat": 4,
 "nbformat_minor": 2
}
